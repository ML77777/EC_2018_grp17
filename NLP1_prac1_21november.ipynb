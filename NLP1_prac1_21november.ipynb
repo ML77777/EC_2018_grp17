{
  "nbformat": 4,
  "nbformat_minor": 0,
  "metadata": {
    "colab": {
      "name": "Copy of NLP1 Practical I (student version)",
      "version": "0.3.2",
      "provenance": [],
      "collapsed_sections": [],
      "toc_visible": true,
      "include_colab_link": true
    },
    "kernelspec": {
      "name": "python3",
      "display_name": "Python 3"
    }
  },
  "cells": [
    {
      "cell_type": "markdown",
      "metadata": {
        "id": "view-in-github",
        "colab_type": "text"
      },
      "source": [
        "<a href=\"https://colab.research.google.com/github/ML77777/EC_2018_grp17/blob/master/NLP1_prac1_21november.ipynb\" target=\"_parent\"><img src=\"https://colab.research.google.com/assets/colab-badge.svg\" alt=\"Open In Colab\"/></a>"
      ]
    },
    {
      "metadata": {
        "id": "lIZrAUx57vsM",
        "colab_type": "text"
      },
      "cell_type": "markdown",
      "source": [
        "Practical 1: Sentiment Detection of Movie Reviews\n",
        "========================================\n",
        "\n"
      ]
    },
    {
      "metadata": {
        "id": "J4kXPMhyngZW",
        "colab_type": "text"
      },
      "cell_type": "markdown",
      "source": [
        "This practical concerns sentiment detection of movie reviews.\n",
        "In [this file](https://gist.githubusercontent.com/bastings/d47423301cca214e3930061a5a75e177/raw/5113687382919e22b1f09ce71a8fecd1687a5760/reviews.json) (80MB) you will find 1000 positive and 1000 negative **movie reviews**.\n",
        "Each review is a **document** and consists of one or more sentences.\n",
        "\n",
        "To prepare yourself for this practical, you should\n",
        "have a look at a few of these texts to understand the difficulties of\n",
        "the task (how might one go about classifying the texts?); you will write\n",
        "code that decides whether a random unseen movie review is positive or\n",
        "negative.\n",
        "\n",
        "Please make sure you have read the following paper:\n",
        "\n",
        ">   Bo Pang, Lillian Lee, and Shivakumar Vaithyanathan\n",
        "(2002). \n",
        "[Thumbs up? Sentiment Classification using Machine Learning\n",
        "Techniques](https://dl.acm.org/citation.cfm?id=1118704). EMNLP.\n",
        "\n",
        "Bo Pang et al. were the \"inventors\" of the movie review sentiment\n",
        "classification task, and the above paper was one of the first papers on\n",
        "the topic. The first version of your sentiment classifier will do\n",
        "something similar to Bo Pang’s system. If you have questions about it,\n",
        "we should resolve them in our first demonstrated practical.\n"
      ]
    },
    {
      "metadata": {
        "id": "cb7errgRASzZ",
        "colab_type": "text"
      },
      "cell_type": "markdown",
      "source": [
        "**Advice**\n",
        "\n",
        "Please read through the entire practical and familiarise\n",
        "yourself with all requirements before you start coding or otherwise\n",
        "solving the tasks. Writing clean and concise code can make the difference\n",
        "between solving the assignment in a matter of hours, and taking days to\n",
        "run all experiments.\n",
        "\n",
        "**Environment**\n",
        "\n",
        "All code should be written in **Python 3**. \n",
        "If you use Colab, check if you have that version with `Runtime -> Change runtime type` in the top menu.\n",
        "\n",
        "> If you want to work in your own computer, then download this notebook through `File -> Download .ipynb`.\n",
        "The easiest way to\n",
        "install Python is through downloading\n",
        "[Anaconda](https://www.anaconda.com/download). \n",
        "After installation, you can start the notebook by typing `jupyter notebook filename.ipynb`.\n",
        "You can also use an IDE\n",
        "such as [PyCharm](https://www.jetbrains.com/pycharm/download/) to make\n",
        "coding and debugging easier. It is good practice to create a [virtual\n",
        "environment](https://docs.python.org/3/tutorial/venv.html) for this\n",
        "project, so that any Python packages don’t interfere with other\n",
        "projects.\n",
        "\n",
        "#### Learning Python 3\n",
        "\n",
        "If you are new to Python 3, you may want to check out a few of these resources:\n",
        "- https://learnxinyminutes.com/docs/python3/\n",
        "- https://www.learnpython.org/\n",
        "- https://docs.python.org/3/tutorial/"
      ]
    },
    {
      "metadata": {
        "id": "bXWyGHwE-ieQ",
        "colab_type": "text"
      },
      "cell_type": "markdown",
      "source": [
        "Loading the Data\n",
        "-------------------------------------------------------------"
      ]
    },
    {
      "metadata": {
        "id": "lm-rakqtlMOT",
        "colab_type": "code",
        "outputId": "84b16c43-dbe4-4ae7-db29-d5261e3b69ad",
        "colab": {
          "base_uri": "https://localhost:8080/",
          "height": 419
        }
      },
      "cell_type": "code",
      "source": [
        "# download sentiment lexicon\n",
        "!wget https://gist.githubusercontent.com/bastings/d6f99dcb6c82231b94b013031356ba05/raw/f80a0281eba8621b122012c89c8b5e2200b39fd6/sent_lexicon\n",
        "# download review data\n",
        "!wget https://gist.githubusercontent.com/bastings/d47423301cca214e3930061a5a75e177/raw/5113687382919e22b1f09ce71a8fecd1687a5760/reviews.json"
      ],
      "execution_count": 1,
      "outputs": [
        {
          "output_type": "stream",
          "text": [
            "--2018-11-21 19:22:25--  https://gist.githubusercontent.com/bastings/d6f99dcb6c82231b94b013031356ba05/raw/f80a0281eba8621b122012c89c8b5e2200b39fd6/sent_lexicon\n",
            "Resolving gist.githubusercontent.com (gist.githubusercontent.com)... 151.101.0.133, 151.101.64.133, 151.101.128.133, ...\n",
            "Connecting to gist.githubusercontent.com (gist.githubusercontent.com)|151.101.0.133|:443... connected.\n",
            "HTTP request sent, awaiting response... 200 OK\n",
            "Length: 662577 (647K) [text/plain]\n",
            "Saving to: ‘sent_lexicon’\n",
            "\n",
            "\rsent_lexicon          0%[                    ]       0  --.-KB/s               \rsent_lexicon        100%[===================>] 647.05K  --.-KB/s    in 0.06s   \n",
            "\n",
            "2018-11-21 19:22:25 (10.3 MB/s) - ‘sent_lexicon’ saved [662577/662577]\n",
            "\n",
            "--2018-11-21 19:22:26--  https://gist.githubusercontent.com/bastings/d47423301cca214e3930061a5a75e177/raw/5113687382919e22b1f09ce71a8fecd1687a5760/reviews.json\n",
            "Resolving gist.githubusercontent.com (gist.githubusercontent.com)... 151.101.0.133, 151.101.64.133, 151.101.128.133, ...\n",
            "Connecting to gist.githubusercontent.com (gist.githubusercontent.com)|151.101.0.133|:443... connected.\n",
            "HTTP request sent, awaiting response... 200 OK\n",
            "Length: 83503869 (80M) [text/plain]\n",
            "Saving to: ‘reviews.json’\n",
            "\n",
            "reviews.json        100%[===================>]  79.63M  94.6MB/s    in 0.8s    \n",
            "\n",
            "2018-11-21 19:22:28 (94.6 MB/s) - ‘reviews.json’ saved [83503869/83503869]\n",
            "\n"
          ],
          "name": "stdout"
        }
      ]
    },
    {
      "metadata": {
        "id": "hok-BFu9lGoK",
        "colab_type": "code",
        "colab": {}
      },
      "cell_type": "code",
      "source": [
        "import math\n",
        "import os\n",
        "import sys\n",
        "from subprocess import call\n",
        "from nltk import FreqDist\n",
        "from nltk.util import ngrams\n",
        "from nltk.stem.porter import PorterStemmer\n",
        "import sklearn as sk\n",
        "from google.colab import drive\n",
        "import pickle\n",
        "import json\n",
        "from collections import Counter\n",
        "import requests\n",
        "import matplotlib.pyplot as plt\n",
        "import numpy as np"
      ],
      "execution_count": 0,
      "outputs": []
    },
    {
      "metadata": {
        "id": "careEKj-mRpl",
        "colab_type": "code",
        "outputId": "837c87de-b744-4eab-ef8d-5a584f1e8bbc",
        "colab": {
          "base_uri": "https://localhost:8080/",
          "height": 697
        }
      },
      "cell_type": "code",
      "source": [
        "# load reviews into memory\n",
        "# file structure:\n",
        "# [\n",
        "#  {\"cv\": integer, \"sentiment\": str, \"content\": list} \n",
        "#  {\"cv\": integer, \"sentiment\": str, \"content\": list} \n",
        "#   ..\n",
        "# ]\n",
        "# where `content` is a list of sentences, \n",
        "# with a sentence being a list of (token, pos_tag) pairs.\n",
        "\n",
        "# For documentation on POS-tags, see \n",
        "# https://catalog.ldc.upenn.edu/docs/LDC99T42/tagguid1.pdf\n",
        "\n",
        "with open(\"reviews.json\", mode=\"r\", encoding=\"utf-8\") as f:\n",
        "  reviews = json.load(f)\n",
        "  \n",
        "print(len(reviews))\n",
        "\n",
        "def print_sentence_with_pos(s):\n",
        "  print(\" \".join(\"%s/%s\" % (token, pos_tag) for token, pos_tag in s))\n",
        "\n",
        "for i, r in enumerate(reviews):\n",
        "  print(r[\"cv\"], r[\"sentiment\"], len(r[\"content\"]))  # cv, sentiment, num sents\n",
        "  print_sentence_with_pos(r[\"content\"][0])\n",
        "  if i == 4: \n",
        "    break\n",
        "    \n",
        "c = Counter()\n",
        "for review in reviews:\n",
        "  for sentence in review[\"content\"]:\n",
        "    for token, pos_tag in sentence:\n",
        "      c[token.lower()] += 1\n",
        "      \n",
        "print(\"#types\", len(c))\n",
        "\n",
        "print(\"Most common tokens:\")\n",
        "for token, count in c.most_common(25):\n",
        "  print(\"%10s : %8d\" % (token, count))\n",
        "  "
      ],
      "execution_count": 3,
      "outputs": [
        {
          "output_type": "stream",
          "text": [
            "2000\n",
            "0 NEG 29\n",
            "Two/CD teen/JJ couples/NNS go/VBP to/TO a/DT church/NN party/NN ,/, drink/NN and/CC then/RB drive/NN ./.\n",
            "1 NEG 11\n",
            "Damn/JJ that/IN Y2K/CD bug/NN ./.\n",
            "2 NEG 24\n",
            "It/PRP is/VBZ movies/NNS like/IN these/DT that/WDT make/VBP a/DT jaded/JJ movie/NN viewer/NN thankful/JJ for/IN the/DT invention/NN of/IN the/DT Timex/NNP IndiGlo/NNP watch/NN ./.\n",
            "3 NEG 19\n",
            "QUEST/NN FOR/IN CAMELOT/NNP ``/`` Quest/NNP for/IN Camelot/NNP ''/'' is/VBZ Warner/NNP Bros./NNP '/POS first/JJ feature-length/JJ ,/, fully-animated/JJ attempt/NN to/TO steal/VB clout/NN from/IN Disney/NNP 's/POS cartoon/NN empire/NN ,/, but/CC the/DT mouse/NN has/VBZ no/DT reason/NN to/TO be/VB worried/VBN ./.\n",
            "4 NEG 38\n",
            "Synopsis/NNPS :/: A/DT mentally/RB unstable/JJ man/NN undergoing/VBG psychotherapy/NN saves/VBZ a/DT boy/NN from/IN a/DT potentially/RB fatal/JJ accident/NN and/CC then/RB falls/VBZ in/IN love/NN with/IN the/DT boy/NN 's/POS mother/NN ,/, a/DT fledgling/NN restauranteur/NN ./.\n",
            "#types 47743\n",
            "Most common tokens:\n",
            "         , :    77842\n",
            "       the :    75948\n",
            "         . :    59027\n",
            "         a :    37583\n",
            "       and :    35235\n",
            "        of :    33864\n",
            "        to :    31601\n",
            "        is :    25972\n",
            "        in :    21563\n",
            "        's :    18043\n",
            "        it :    15904\n",
            "      that :    15820\n",
            "     -rrb- :    11768\n",
            "     -lrb- :    11670\n",
            "        as :    11312\n",
            "      with :    10739\n",
            "       for :     9816\n",
            "       his :     9542\n",
            "      this :     9497\n",
            "      film :     9404\n",
            "        '' :     9282\n",
            "        he :     8804\n",
            "        `` :     8801\n",
            "         i :     8619\n",
            "       but :     8537\n"
          ],
          "name": "stdout"
        }
      ]
    },
    {
      "metadata": {
        "id": "E6PWaEoh8B34",
        "colab_type": "text"
      },
      "cell_type": "markdown",
      "source": [
        "Symbolic approach – sentiment lexicon (2pts)\n",
        "---------------------------------------------------------------------\n",
        "\n"
      ]
    },
    {
      "metadata": {
        "id": "JsTSMb6ma4E8",
        "colab_type": "text"
      },
      "cell_type": "markdown",
      "source": [
        "**How** could one automatically classify movie reviews according to their\n",
        "sentiment? \n",
        "\n",
        "If we had access to a **sentiment lexicon**, then there are ways to solve\n",
        "the problem without using Machine Learning. One might simply look up\n",
        "every open-class word in the lexicon, and compute a binary score\n",
        "$S_{binary}$ by counting how many words match either a positive, or a\n",
        "negative word entry in the sentiment lexicon $SLex$.\n",
        "\n",
        "$$S_{binary}(w_1w_2...w_n) = \\sum_{i = 1}^{n}\\text{sgn}(SLex\\big[w_i\\big])$$\n",
        "\n",
        "**Threshold.** In average there are more positive than negative words per review (~7.13 more positive than negative per review) to take this bias into account you should use a threshold of **8** (roughly the bias itself) to make it harder to classify as positive.\n",
        "\n",
        "$$\n",
        "\\text{classify}(S_{binary}(w_1w_2...w_n)) = \\bigg\\{\\begin{array}{ll}\n",
        "        \\text{positive} & \\text{if } S_{binary}(w_1w_2...w_n) > threshold\\\\\n",
        "        \\text{negative} & \\text{else }\n",
        "        \\end{array}\n",
        "$$\n",
        "\n",
        "To implement this approach, you should use the sentiment\n",
        "lexicon in `sent_lexicon`, which was taken from the\n",
        "following work:\n",
        "\n",
        "> Theresa Wilson, Janyce Wiebe, and Paul Hoffmann\n",
        "(2005). [Recognizing Contextual Polarity in Phrase-Level Sentiment\n",
        "Analysis](http://www.aclweb.org/anthology/H/H05/H05-1044.pdf). HLT-EMNLP."
      ]
    },
    {
      "metadata": {
        "id": "tOFnMvbeeZrc",
        "colab_type": "text"
      },
      "cell_type": "markdown",
      "source": [
        "#### (Q: 1.1) Implement this approach and report its classification accuracy. (1 pt)"
      ]
    },
    {
      "metadata": {
        "id": "ED2aTEYutW1-",
        "colab_type": "code",
        "outputId": "f07e3a36-8d01-458c-8b8e-916656e6b5bd",
        "colab": {
          "base_uri": "https://localhost:8080/",
          "height": 34
        }
      },
      "cell_type": "code",
      "source": [
        "# YOUR CODE HERE\n",
        "slex = open(\"sent_lexicon\",\"r\").readlines()\n",
        "\n",
        "def create_lookup(slex):\n",
        "    lookup_table = {}\n",
        "    #distinct_pos_tags = []\n",
        "    for i in slex:\n",
        "        dict_element = i.split()\n",
        "        word = dict_element[2].split(\"=\")[1]\n",
        "        pos_tag = dict_element[3].split(\"=\")[1]\n",
        "        polarity =  dict_element[5].split(\"=\")[1]\n",
        "        #lookup_table[(word,pos_tag)] = polarity\n",
        "        lookup_table[word] = polarity\n",
        "        #if pos_tag not in distinct_pos_tags:\n",
        "        #    distinct_pos_tags.append(pos_tag) #Possible tags in lexicon are, adj (JJ), noun (NN), adverb (RB) and anypos\n",
        "    \n",
        "    return lookup_table\n",
        "\n",
        "def predict_review_binary(lookup_table,list_sentences):\n",
        "    result = \"NEG\"\n",
        "    sentiment_score = 0\n",
        "    for sentence in list_sentences:\n",
        "        for token,pos_tag in sentence:\n",
        "            #print(token,pos_tag)\n",
        "            if \"JJ\" in pos_tag:\n",
        "                pos_tag_key = \"adj\"\n",
        "            elif \"NN\" in pos_tag:\n",
        "                pos_tag_key = \"noun\"\n",
        "            elif \"RB\" in pos_tag:\n",
        "                pos_tag_key = \"adverb\"\n",
        "            else: pos_tag_key = \"anypos\"\n",
        "            #key = (token,pos_tag_key) #64.05 accuracy\n",
        "            #key = (token.lower(),pos_tag_key) #62.9 accuracy\n",
        "            #key = token.lower() #67.75 accuracy\n",
        "            key = token #67.95 accuracy\n",
        "            if key in lookup_table:\n",
        "                polarity = lookup_table[key]\n",
        "                if polarity == \"positive\":\n",
        "                    sentiment_score += 1\n",
        "                elif polarity == \"negative\":\n",
        "                    sentiment_score -= 1\n",
        "    if sentiment_score > 8:\n",
        "        result = \"POS\"\n",
        "    #print(\"Sentiment score: {}\".format(sentiment_score))\n",
        "    return result\n",
        "\n",
        "def get_binary_results(lookup_table, reviews):\n",
        "    targets = []\n",
        "    predictions = []\n",
        "    correctness_predictions = []\n",
        "    for review in reviews: \n",
        "        prediction = predict_review_binary(lookup_table,review[\"content\"])\n",
        "        predictions.append(prediction)\n",
        "        target = review[\"sentiment\"]\n",
        "        targets.append(target)\n",
        "        if prediction == target:\n",
        "            correctness_predictions.append(\"+\")\n",
        "        else: correctness_predictions.append(\"-\")\n",
        "    return (predictions,targets,correctness_predictions)\n",
        "\n",
        "def calc_accuracy(predictions,targets):\n",
        "    amount_correct = 0\n",
        "    amount_reviews = len(targets)\n",
        "\n",
        "    for i in range(amount_reviews):\n",
        "        prediction = predictions[i]\n",
        "        target = targets[i]\n",
        "        if prediction == target:\n",
        "            amount_correct += 1\n",
        "    accuracy = amount_correct/amount_reviews #* 100\n",
        "    return accuracy\n",
        "\n",
        "lookup_table = create_lookup(slex) \n",
        "predictions,targets,correctness_results = get_binary_results(lookup_table,reviews)\n",
        "accuracy = calc_accuracy(predictions,targets)\n",
        "print(\"Accuracy: {}\".format(accuracy))"
      ],
      "execution_count": 152,
      "outputs": [
        {
          "output_type": "stream",
          "text": [
            "Accuracy: 0.6795\n"
          ],
          "name": "stdout"
        }
      ]
    },
    {
      "metadata": {
        "id": "iy528EUTphz5",
        "colab_type": "code",
        "outputId": "75245e11-f82d-4897-b807-b2a370596cca",
        "colab": {
          "base_uri": "https://localhost:8080/",
          "height": 34
        }
      },
      "cell_type": "code",
      "source": [
        "token_results = correctness_results # Correctness of sentiment predictons against the actual targets\n",
        "token_accuracy = accuracy # 67.95 for just comparing words, taking pos_tag into account drops to 64 or 62%\n",
        "print(\"Accuracy: %0.2f\" % token_accuracy)"
      ],
      "execution_count": 5,
      "outputs": [
        {
          "output_type": "stream",
          "text": [
            "Accuracy: 67.95\n"
          ],
          "name": "stdout"
        }
      ]
    },
    {
      "metadata": {
        "id": "Twox0s_3eS0V",
        "colab_type": "text"
      },
      "cell_type": "markdown",
      "source": [
        "If the sentiment lexicon also has information about the **magnitude** of\n",
        "sentiment (e.g., *“excellent\"* would have higher magnitude than\n",
        "*“good\"*), we could take a more fine-grained approach by adding up all\n",
        "sentiment scores, and deciding the polarity of the movie review using\n",
        "the sign of the weighted score $S_{weighted}$.\n",
        "\n",
        "$$S_{weighted}(w_1w_2...w_n) = \\sum_{i = 1}^{n}SLex\\big[w_i\\big]$$\n",
        "\n",
        "\n",
        "Their lexicon also records two possible magnitudes of sentiment (*weak*\n",
        "and *strong*), so you can implement both the binary and the weighted\n",
        "solutions (please use a switch in your program). For the weighted\n",
        "solution, you can choose the weights intuitively *once* before running\n",
        "the experiment.\n",
        "\n",
        "#### (Q: 1.2) Now incorporate magnitude information and report the classification accuracy. Don't forget to use the threshold. (1 pt)"
      ]
    },
    {
      "metadata": {
        "id": "qG3hUDnPtkhS",
        "colab_type": "code",
        "outputId": "8f91158b-abd0-4596-eeb0-9605d1782b39",
        "colab": {
          "base_uri": "https://localhost:8080/",
          "height": 52
        }
      },
      "cell_type": "code",
      "source": [
        "# YOUR CODE HERE\n",
        "def create_lookup_extension(slex,weighted=False):\n",
        "    lookup_table = {}\n",
        "    #distinct_pos_tags = []\n",
        "    for i in slex:\n",
        "        dict_element = i.split()\n",
        "        word = dict_element[2].split(\"=\")[1]\n",
        "        pos_tag = dict_element[3].split(\"=\")[1]\n",
        "        polarity =  dict_element[5].split(\"=\")[1]\n",
        "        #lookup_table[(word,pos_tag)] = polarity\n",
        "        #Extension for weighted solution\n",
        "        if weighted:\n",
        "            type_subj = dict_element[0].split(\"=\")[1]\n",
        "            lookup_table[word] = (polarity,type_subj)\n",
        "        else: \n",
        "            lookup_table[word] = polarity\n",
        "        #if pos_tag not in distinct_pos_tags:\n",
        "        #    distinct_pos_tags.append(pos_tag) #Possible tags in lexicon are, adj (JJ), noun (NN), adverb (RB) and anypos\n",
        "    \n",
        "    return lookup_table\n",
        "\n",
        "def predict_review_weighted(lookup_table,list_sentences, weight_argument):\n",
        "    result = \"NEG\"\n",
        "    sentiment_score = 0\n",
        "    for sentence in list_sentences:\n",
        "        for token,pos_tag in sentence:\n",
        "            key = token \n",
        "            if key in lookup_table:\n",
        "                polarity,type_subj = lookup_table[key]\n",
        "                if type_subj == \"weaksubj\":\n",
        "                    weight = 1\n",
        "                else: weight = weight_argument\n",
        "                    \n",
        "                if polarity == \"positive\":\n",
        "                    sentiment_score += 1 * weight\n",
        "                elif polarity == \"negative\":\n",
        "                    sentiment_score -= 1 * weight\n",
        "    if sentiment_score > 8:\n",
        "        result = \"POS\"\n",
        "    #print(\"Sentiment score: {}\".format(sentiment_score))\n",
        "    return result\n",
        "\n",
        "def get_weighted_results(lookup_table,reviews,weight):\n",
        "    targets = []\n",
        "    predictions = []\n",
        "    correctness_predictions = []\n",
        "    for review in reviews: \n",
        "        prediction = predict_review_weighted(lookup_table,review[\"content\"],weight)\n",
        "        predictions.append(prediction)\n",
        "        target = review[\"sentiment\"]\n",
        "        targets.append(target)\n",
        "        if prediction == target:\n",
        "            correctness_predictions.append(\"+\")\n",
        "        else: correctness_predictions.append(\"-\")\n",
        "            \n",
        "    return (predictions,targets,correctness_predictions)\n",
        "\n",
        "def run_binary_predictions(sent_lexicon,document_set):\n",
        "    lookup_table = create_lookup_extension(sent_lexicon,False)\n",
        "    binary_predictions,targets,correctness_results = get_binary_results(lookup_table,document_set)\n",
        "    binary_accuracy = calc_accuracy(binary_predictions,targets)\n",
        "    return (binary_predictions,binary_accuracy,correctness_results)\n",
        "\n",
        "def run_weighted_predictions(sent_lexicon,document_set,weight):\n",
        "    lookup_table = create_lookup_extension(sent_lexicon,True)\n",
        "    weighted_predictions,targets,correctness_results = get_weighted_results(lookup_table,document_set,weight)\n",
        "    weighted_accuracy = calc_accuracy(weighted_predictions,targets)\n",
        "    return (weighted_predictions,weighted_accuracy,correctness_results)\n",
        "\n",
        "def predict_binary_or_weighted(sent_lexicon=slex,document_set=reviews,prediction_type=\"B\",given_weight=4):\n",
        "    switcher = {\n",
        "        \"B\":run_binary_predictions(sent_lexicon,document_set),\n",
        "        \"W\":run_weighted_predictions(sent_lexicon,document_set,given_weight)\n",
        "    }\n",
        "    return switcher.get(prediction_type, ([],0)) #Returns predictions and accuracy\n",
        "    \n",
        "weighted_predictions, weighted_accuracy, weighted_correctness = predict_binary_or_weighted(slex,reviews,\"W\",4)\n",
        "binary_predictions, binary_accuracy,binary_correctness = predict_binary_or_weighted(slex,reviews,\"B\")\n",
        "print(\"Weighted Accuracy: {}%\".format(weighted_accuracy))\n",
        "print(\"Binary Accuracy: {}%\".format(binary_accuracy))"
      ],
      "execution_count": 6,
      "outputs": [
        {
          "output_type": "stream",
          "text": [
            "Weighted Accuracy: 68.45%\n",
            "Binary Accuracy: 67.95%\n"
          ],
          "name": "stdout"
        }
      ]
    },
    {
      "metadata": {
        "id": "9vVk7CvDpyka",
        "colab_type": "code",
        "outputId": "a4f6781a-5e5a-4f23-a0c4-23e5cc83f4b8",
        "colab": {
          "base_uri": "https://localhost:8080/",
          "height": 34
        }
      },
      "cell_type": "code",
      "source": [
        "magnitude_results = weighted_correctness  # Correctness of sentiment predictons against the actual targets\n",
        "magnitude_accuracy = weighted_accuracy# 68.45%\n",
        "print(\"Accuracy: %0.2f\" % magnitude_accuracy)"
      ],
      "execution_count": 7,
      "outputs": [
        {
          "output_type": "stream",
          "text": [
            "Accuracy: 68.45\n"
          ],
          "name": "stdout"
        }
      ]
    },
    {
      "metadata": {
        "id": "h9SHoGPfsAHV",
        "colab_type": "text"
      },
      "cell_type": "markdown",
      "source": [
        "#### Optional: make a barplot of the two results."
      ]
    },
    {
      "metadata": {
        "id": "8LgBcYcXsEk3",
        "colab_type": "code",
        "colab": {}
      },
      "cell_type": "code",
      "source": [
        "# YOUR CODE HERE"
      ],
      "execution_count": 0,
      "outputs": []
    },
    {
      "metadata": {
        "id": "6MFrz8Jink0D",
        "colab_type": "text"
      },
      "cell_type": "markdown",
      "source": [
        "Answering questions in statistically significant ways (1pt)\n",
        "-------------------------------------------------------------"
      ]
    },
    {
      "metadata": {
        "id": "kxkxrldT9Ymc",
        "colab_type": "text"
      },
      "cell_type": "markdown",
      "source": [
        "Does using the magnitude improve the results? Oftentimes, answering questions like this about the performance of\n",
        "different signals and/or algorithms by simply looking at the output\n",
        "numbers is not enough. When dealing with natural language or human\n",
        "ratings, it’s safe to assume that there are infinitely many possible\n",
        "instances that could be used for training and testing, of which the ones\n",
        "we actually train and test on are a tiny sample. Thus, it is possible\n",
        "that observed differences in the reported performance are really just\n",
        "noise. \n",
        "\n",
        "There exist statistical methods which can be used to check for\n",
        "consistency (*statistical significance*) in the results, and one of the\n",
        "simplest such tests is the **sign test**. \n",
        "\n",
        "The sign test is based on the binomial distribution. Count all cases when System 1 is better than System 2, when System 2 is better than System 1, and when they are the same. Call these numbers $Plus$, $Minus$ and $Null$ respectively. \n",
        "\n",
        "The sign test returns the probability that the null hypothesis is true. \n",
        "\n",
        "This probability is called the $p$-value and it can be calculated for the two-sided sign test using the following formula (we multiply by two because this is a two-sided sign test and tests for the significance of differences in either direction):\n",
        "\n",
        "$$2 \\, \\sum\\limits_{i=0}^{k} \\binom{N}{i} \\, q^i \\, (1-q)^{N-i}$$\n",
        "\n",
        "where $$N = 2 \\Big\\lceil \\frac{Null}{2}\\Big\\rceil + Plus + Minus$$ is the total\n",
        "number of cases, and\n",
        "$$k = \\Big\\lceil \\frac{Null}{2}\\Big\\rceil + \\min\\{Plus,Minus\\}$$ is the number of\n",
        "cases with the less common sign. \n",
        "\n",
        "In this experiment, $q = 0.5$. Here, we\n",
        "treat ties by adding half a point to either side, rounding up to the\n",
        "nearest integer if necessary. \n",
        "\n",
        "\n",
        "#### (Q 2.1): Implement the sign test. Is the difference between the two symbolic systems significant? What is the p-value? (1 pt)\n",
        "\n",
        "You should use the `comb` function from `scipy` and the `decimal` package for the stable adding of numbers in the final summation.\n",
        "\n",
        "You can quickly verify the correctness of\n",
        "your sign test code using a [free online\n",
        "tool](https://www.graphpad.com/quickcalcs/binomial1.cfm)."
      ]
    },
    {
      "metadata": {
        "id": "de5l4oPkE-BS",
        "colab_type": "code",
        "outputId": "2a1e155c-52b3-4dbf-ab17-5ee0c8fcc7a8",
        "colab": {
          "base_uri": "https://localhost:8080/",
          "height": 52
        }
      },
      "cell_type": "code",
      "source": [
        "from decimal import Decimal\n",
        "from scipy.special import comb\n",
        "\n",
        "\n",
        "def sign_test(results_1, results_2):\n",
        "  \"\"\"test for significance\n",
        "  results_1 is a list of classification results (+ for correct, - incorrect)\n",
        "  results_2 is a list of classification results (+ for correct, - incorrect)\n",
        "  \"\"\"\n",
        "  ties, plus, minus = 0, 0, 0\n",
        "\n",
        "  # \"-\" carries the error\n",
        "  for i in range(0, len(results_1)):\n",
        "    if results_1[i]==results_2[i]:\n",
        "      ties += 1\n",
        "    elif results_1[i]==\"-\": \n",
        "      plus += 1\n",
        "    elif results_2[i]==\"-\": \n",
        "      minus += 1\n",
        "\n",
        "  n = 2 * (ties/2) + plus + minus\n",
        "  k = (ties/2) + min([plus,minus])\n",
        "\n",
        "  summation = Decimal(0.0)\n",
        "  for i in range(0,int(k)+1):\n",
        "      summation += Decimal(comb(n, i,True)) # YOUR CODE HERE\n",
        "\n",
        "  # use two-tailed version of test\n",
        "  summation *= 2\n",
        "  summation *= (Decimal(0.5)**Decimal(n))\n",
        "  \n",
        "  print(\"the difference is\", \n",
        "        \"not significant\" if summation >= 0.05 else \"significant\")\n",
        "  \n",
        "  return summation\n",
        "\n",
        "p_value = sign_test(token_results, magnitude_results)\n",
        "print(\"p_value =\", p_value)"
      ],
      "execution_count": 9,
      "outputs": [
        {
          "output_type": "stream",
          "text": [
            "the difference is not significant\n",
            "p_value = 0.8405124276655436267484850072\n"
          ],
          "name": "stdout"
        }
      ]
    },
    {
      "metadata": {
        "id": "uhU_tk-BOaXb",
        "colab_type": "text"
      },
      "cell_type": "markdown",
      "source": [
        "## Using the Sign test\n",
        "\n",
        "**From now on, report all differences between systems using the\n",
        "sign test.** You can think about a change that you apply to one system, as a\n",
        " new system.\n",
        "    \n",
        "You should report statistical test\n",
        "results in an appropriate form – if there are several different methods\n",
        "(i.e., systems) to compare, tests can only be applied to pairs of them\n",
        "at a time. This creates a triangular matrix of test results in the\n",
        "general case. When reporting these pair-wise differences, you should\n",
        "summarise trends to avoid redundancy.\n"
      ]
    },
    {
      "metadata": {
        "id": "LibV4nR89BXb",
        "colab_type": "text"
      },
      "cell_type": "markdown",
      "source": [
        "Naive Bayes (8pt + 1pt bonus)\n",
        "=========="
      ]
    },
    {
      "metadata": {
        "id": "fnF9adQnuwia",
        "colab_type": "text"
      },
      "cell_type": "markdown",
      "source": [
        "\n",
        "Your second task is to program a simple Machine Learning approach that operates\n",
        "on a simple Bag-of-Words (BoW) representation of the text data, as\n",
        "described in Pang et al. (2002). In this approach, the only features we\n",
        "will consider are the words in the text themselves, without bringing in\n",
        "external sources of information. The BoW model is a popular way of\n",
        "representing text information as vectors (or points in space), making it\n",
        "easy to apply classical Machine Learning algorithms on NLP tasks.\n",
        "However, the BoW representation is also very crude, since it discards\n",
        "all information related to word order and grammatical structure in the\n",
        "original text.\n",
        "\n",
        "## Writing your own classifier\n",
        "\n",
        "Write your own code to implement the Naive Bayes (NB) classifier. As\n",
        "a reminder, the Naive Bayes classifier works according to the following\n",
        "equation:\n",
        "$$\\hat{c} = \\operatorname*{arg\\,max}_{c \\in C} P(c|\\bar{f}) = \\operatorname*{arg\\,max}_{c \\in C} P(c)\\prod^n_{i=1} P(f_i|c)$$\n",
        "where $C = \\{ \\text{POS}, \\text{NEG} \\}$ is the set of possible classes,\n",
        "$\\hat{c} \\in C$ is the most probable class, and $\\bar{f}$ is the feature\n",
        "vector. Remember that we use the log of these probabilities when making\n",
        "a prediction:\n",
        "$$\\hat{c} = \\operatorname*{arg\\,max}_{c \\in C} \\Big\\{\\log P(c) + \\sum^n_{i=1} \\log P(f_i|c)\\Big\\}$$\n",
        "\n",
        "You can find more details about Naive Bayes in [Jurafsky &\n",
        "Martin](https://web.stanford.edu/~jurafsky/slp3/). You can also look at\n",
        "this helpful\n",
        "[pseudo-code](https://nlp.stanford.edu/IR-book/html/htmledition/naive-bayes-text-classification-1.html).\n",
        "\n",
        "*Note: this section and the next aim to put you a position to replicate\n",
        "    Pang et al., Naive Bayes results. However, the numerical results\n",
        "    will differ from theirs, as they used different data.*\n",
        "\n",
        "**You must write the Naive Bayes training and prediction code from\n",
        "scratch.** You will not be given credit for using off-the-shelf Machine\n",
        "Learning libraries.\n",
        "\n",
        "The data contains the text of the reviews, where each document consists\n",
        "of the sentences in the review, the sentiment of the review and an index\n",
        "(cv) that you will later use for cross-validation. You will find the\n",
        "text has already been tokenised and POS-tagged for you. Your algorithm\n",
        "should read in the text, **lowercase it**, and store the words and their\n",
        "frequencies in an appropriate data structure that allows for easy\n",
        "computation of the probabilities used in the Naive Bayes algorithm, and\n",
        "then make predictions for new instances."
      ]
    },
    {
      "metadata": {
        "id": "gsZRhaI3WvzC",
        "colab_type": "text"
      },
      "cell_type": "markdown",
      "source": [
        "#### (Q3.1) Train your classifier on (positive and negative) reviews with cv-value 000-899, and test it on the remaining reviews cv900–cv999.  Report results using simple classification accuracy as your evaluation metric. Your  features are the word vocabulary. The value of a feature is the count of that feature (word) in the document. (2pts)\n"
      ]
    },
    {
      "metadata": {
        "id": "G7zaJYGFvIJ3",
        "colab_type": "code",
        "outputId": "184f8fd3-1b5f-47a5-d040-d26dbd56c3fb",
        "colab": {
          "base_uri": "https://localhost:8080/",
          "height": 141
        }
      },
      "cell_type": "code",
      "source": [
        "# YOUR CODE HERE\n",
        "#Current duration 66 seconds, see if it can be reduced\n",
        "\n",
        "from math import log\n",
        "from random import randint\n",
        "\n",
        "class NB_classifier():\n",
        " \n",
        "  def fit(self,classes,documents):\n",
        "    self.amount_docs = len(documents)\n",
        "    self.amount_doc_per_class = [0 for i in range(len(classes))] #Amount POS (class) documents is index 0 and NEG is index 1\n",
        "    self.prior_of_classes = [0.0 for i in range(len(classes))] \n",
        "    self.classes = classes\n",
        "    self.total_vocabulary = set()\n",
        "    self.class_word_counters = [Counter(),Counter()]\n",
        "    self.total_amount_words_class = [0 for i in range(len(classes))]\n",
        "    print(classes)\n",
        "    \n",
        "    for review in documents:\n",
        "      sentiment = review[\"sentiment\"]\n",
        "      content = review[\"content\"]\n",
        "      if sentiment == classes[0]: #Positive class\n",
        "        self.amount_doc_per_class[0] +=1\n",
        "        class_index = 0\n",
        "      else: #Negative class\n",
        "        self.amount_doc_per_class[1] +=1\n",
        "        class_index = 1\n",
        "\n",
        "      for sentence in content:\n",
        "        for token,pos_tag in sentence:\n",
        "          token = token.lower()\n",
        "          if token not in self.total_vocabulary:\n",
        "            self.total_vocabulary.add(token) \n",
        "           \n",
        "          counter_dict = self.class_word_counters[class_index]\n",
        "          counter_dict[token]  += 1\n",
        "          self.total_amount_words_class[class_index] += 1\n",
        "    \n",
        "    self.prior_of_classes[0] = self.amount_doc_per_class[0] / self.amount_docs\n",
        "    self.prior_of_classes[1] = self.amount_doc_per_class[1] / self.amount_docs\n",
        "    #print(\" Total amount pos in dict {}\".format(self.total_amount_words_class[0]))\n",
        "    #print(\" Total amount neg in dict {}\".format(self.total_amount_words_class[1]))\n",
        "   \n",
        "    \n",
        "  def predict(self,test_documents):\n",
        "      pos_prior = log(self.prior_of_classes[0]) if self.prior_of_classes[0] > 0 else 0\n",
        "      neg_prior = log(self.prior_of_classes[1]) if self.prior_of_classes[1] > 0 else 0\n",
        "      predictions = []\n",
        "      targets = []\n",
        "      pos_dict = self.class_word_counters[0]\n",
        "      neg_dict = self.class_word_counters[1]\n",
        "      \n",
        "      for review in test_documents:\n",
        "        targets.append(review[\"sentiment\"])\n",
        "        content = review[\"content\"]\n",
        "        probability_POS = pos_prior\n",
        "        probability_NEG = neg_prior\n",
        "        total_conditional_pos = 0\n",
        "        total_conditional_neg = 0 \n",
        "        \n",
        "        for sentence in content:\n",
        "          for token,pos_tag in sentence:\n",
        "            token = token.lower()\n",
        "            if token in self.total_vocabulary:\n",
        "              occ_in_pos =  pos_dict.get(token)\n",
        "              occ_in_neg = neg_dict.get(token)\n",
        "\n",
        "              if occ_in_pos != None:\n",
        "                #print(\"Word {} and occ {}\".format(token,occ_in_pos))\n",
        "                conditional_pos = occ_in_pos / self.total_amount_words_class[0]\n",
        "                total_conditional_pos += log(conditional_pos)\n",
        "              if occ_in_neg != None:\n",
        "                #print(\"Word {} and occ {}\".format(token,occ_in_neg))\n",
        "                conditional_neg = occ_in_neg / self.total_amount_words_class[1]\n",
        "                total_conditional_neg += log(conditional_neg)\n",
        "                \n",
        "        probability_POS += total_conditional_pos\n",
        "        probability_NEG += total_conditional_neg\n",
        "        probs = [probability_POS,probability_NEG]\n",
        "        max_prob = max(probs)\n",
        "        count = probs.count(max_prob)\n",
        "        if count == 1:\n",
        "          max_index = probs.index(max_prob)\n",
        "        else: max_index = randint(0, 1)\n",
        "        predictions.append(self.classes[max_index])\n",
        "        \n",
        "      return (predictions,targets)\n",
        "    \n",
        "  def get_correctness_results(self,predictions,targets):\n",
        "    correctness_predictions = []\n",
        "    for i,prediction in enumerate(predictions):\n",
        "      target = targets[i]\n",
        "      if (prediction == target):\n",
        "        correctness_predictions.append(\"+\")\n",
        "      else:\n",
        "        correctness_predictions.append(\"-\")\n",
        "    return correctness_predictions\n",
        "  \n",
        "\n",
        "classes = [\"POS\",\"NEG\"]\n",
        "neg_reviews =  reviews[0:1000]\n",
        "pos_reviews = reviews[1000:]\n",
        "train_set = neg_reviews[:900] + pos_reviews[:900]\n",
        "test_set = neg_reviews[900:] + pos_reviews[900:]\n",
        "print(len(train_set))\n",
        "print(len(test_set))\n",
        "\n",
        "nb = NB_classifier()\n",
        "nb.fit(classes,train_set)\n",
        "predictions,targets = nb.predict(test_set)\n",
        "acc = calc_accuracy(predictions,targets)\n",
        "no_smoothing_results = nb.get_correctness_results(predictions,targets)\n",
        "print(predictions)\n",
        "print(targets)\n",
        "print(\"Accuracy of no smoothing: {}%\".format(acc))"
      ],
      "execution_count": 150,
      "outputs": [
        {
          "output_type": "stream",
          "text": [
            "1800\n",
            "200\n",
            "['POS', 'NEG']\n",
            "['POS', 'NEG', 'NEG', 'POS', 'POS', 'NEG', 'NEG', 'NEG', 'NEG', 'POS', 'POS', 'POS', 'NEG', 'POS', 'POS', 'NEG', 'NEG', 'POS', 'POS', 'NEG', 'POS', 'NEG', 'POS', 'POS', 'POS', 'POS', 'NEG', 'NEG', 'NEG', 'NEG', 'NEG', 'NEG', 'POS', 'NEG', 'NEG', 'NEG', 'NEG', 'NEG', 'NEG', 'POS', 'NEG', 'POS', 'NEG', 'POS', 'NEG', 'POS', 'POS', 'NEG', 'POS', 'NEG', 'NEG', 'POS', 'POS', 'POS', 'NEG', 'NEG', 'NEG', 'NEG', 'POS', 'POS', 'NEG', 'POS', 'POS', 'NEG', 'NEG', 'NEG', 'POS', 'NEG', 'POS', 'NEG', 'NEG', 'POS', 'NEG', 'NEG', 'NEG', 'NEG', 'POS', 'NEG', 'NEG', 'NEG', 'POS', 'NEG', 'POS', 'NEG', 'POS', 'NEG', 'NEG', 'POS', 'NEG', 'NEG', 'NEG', 'POS', 'NEG', 'POS', 'NEG', 'NEG', 'POS', 'NEG', 'NEG', 'POS', 'POS', 'POS', 'NEG', 'NEG', 'NEG', 'NEG', 'NEG', 'NEG', 'NEG', 'POS', 'NEG', 'NEG', 'NEG', 'POS', 'NEG', 'NEG', 'NEG', 'NEG', 'POS', 'NEG', 'NEG', 'POS', 'POS', 'NEG', 'NEG', 'NEG', 'POS', 'NEG', 'POS', 'NEG', 'POS', 'NEG', 'NEG', 'POS', 'NEG', 'NEG', 'NEG', 'NEG', 'NEG', 'POS', 'NEG', 'NEG', 'NEG', 'NEG', 'NEG', 'POS', 'NEG', 'NEG', 'POS', 'NEG', 'NEG', 'POS', 'POS', 'POS', 'POS', 'NEG', 'NEG', 'POS', 'NEG', 'POS', 'NEG', 'NEG', 'POS', 'NEG', 'POS', 'POS', 'NEG', 'POS', 'POS', 'NEG', 'NEG', 'POS', 'POS', 'POS', 'NEG', 'NEG', 'NEG', 'POS', 'POS', 'NEG', 'POS', 'NEG', 'POS', 'POS', 'NEG', 'NEG', 'NEG', 'NEG', 'NEG', 'POS', 'NEG', 'POS', 'POS', 'NEG', 'POS', 'NEG', 'POS', 'POS', 'POS', 'NEG']\n",
            "['NEG', 'NEG', 'NEG', 'NEG', 'NEG', 'NEG', 'NEG', 'NEG', 'NEG', 'NEG', 'NEG', 'NEG', 'NEG', 'NEG', 'NEG', 'NEG', 'NEG', 'NEG', 'NEG', 'NEG', 'NEG', 'NEG', 'NEG', 'NEG', 'NEG', 'NEG', 'NEG', 'NEG', 'NEG', 'NEG', 'NEG', 'NEG', 'NEG', 'NEG', 'NEG', 'NEG', 'NEG', 'NEG', 'NEG', 'NEG', 'NEG', 'NEG', 'NEG', 'NEG', 'NEG', 'NEG', 'NEG', 'NEG', 'NEG', 'NEG', 'NEG', 'NEG', 'NEG', 'NEG', 'NEG', 'NEG', 'NEG', 'NEG', 'NEG', 'NEG', 'NEG', 'NEG', 'NEG', 'NEG', 'NEG', 'NEG', 'NEG', 'NEG', 'NEG', 'NEG', 'NEG', 'NEG', 'NEG', 'NEG', 'NEG', 'NEG', 'NEG', 'NEG', 'NEG', 'NEG', 'NEG', 'NEG', 'NEG', 'NEG', 'NEG', 'NEG', 'NEG', 'NEG', 'NEG', 'NEG', 'NEG', 'NEG', 'NEG', 'NEG', 'NEG', 'NEG', 'NEG', 'NEG', 'NEG', 'NEG', 'POS', 'POS', 'POS', 'POS', 'POS', 'POS', 'POS', 'POS', 'POS', 'POS', 'POS', 'POS', 'POS', 'POS', 'POS', 'POS', 'POS', 'POS', 'POS', 'POS', 'POS', 'POS', 'POS', 'POS', 'POS', 'POS', 'POS', 'POS', 'POS', 'POS', 'POS', 'POS', 'POS', 'POS', 'POS', 'POS', 'POS', 'POS', 'POS', 'POS', 'POS', 'POS', 'POS', 'POS', 'POS', 'POS', 'POS', 'POS', 'POS', 'POS', 'POS', 'POS', 'POS', 'POS', 'POS', 'POS', 'POS', 'POS', 'POS', 'POS', 'POS', 'POS', 'POS', 'POS', 'POS', 'POS', 'POS', 'POS', 'POS', 'POS', 'POS', 'POS', 'POS', 'POS', 'POS', 'POS', 'POS', 'POS', 'POS', 'POS', 'POS', 'POS', 'POS', 'POS', 'POS', 'POS', 'POS', 'POS', 'POS', 'POS', 'POS', 'POS', 'POS', 'POS', 'POS', 'POS', 'POS', 'POS', 'POS', 'POS']\n",
            "Accuracy of no smoothing: 49.5%\n"
          ],
          "name": "stdout"
        }
      ]
    },
    {
      "metadata": {
        "id": "0INK-PBoM6CB",
        "colab_type": "text"
      },
      "cell_type": "markdown",
      "source": [
        "#### (Bonus Questions) Would you consider accuracy to also be a good way to evaluate your classifier in a situation where 90% of your data instances are of positive movie reviews? (1pt)\n",
        "\n",
        "You can simulate this scenario by keeping the positive reviews\n",
        "data unchanged, but only using negative reviews cv000–cv089 for\n",
        "training, and cv900–cv909 for testing. Calculate the classification\n",
        "accuracy, and explain what changed."
      ]
    },
    {
      "metadata": {
        "id": "GWDkt5ZrrFGp",
        "colab_type": "code",
        "colab": {}
      },
      "cell_type": "code",
      "source": [
        "# YOUR CODE HERE\n",
        "#Same as above, but rreplace train and test set with:\n",
        "train_set = neg_reviews[:90] + pos_reviews[:900]\n",
        "test_set = neg_reviews[900:910] + pos_reviews[900:]\n",
        "#Accuracy would not be a good measure, since there is dominance of a class in training and test set (class inbalance). \n",
        "#Therefore a classifier could just predict one class all the time and still achieve an high accuracy if that class is dominating in the test set.\n",
        "#It then would not really be a classifier anymore if just predicts one class the whole time, and is not able to distinguish between them\n",
        "#Thus, other measures that would be helpfull are precision and recall that also take False positive or false negatives into account. In this case, recall is probably more desired as positive reviews are dominating in test set."
      ],
      "execution_count": 0,
      "outputs": []
    },
    {
      "metadata": {
        "id": "6wJzcHX3WUDm",
        "colab_type": "text"
      },
      "cell_type": "markdown",
      "source": [
        "## Smoothing\n",
        "\n",
        "The presence of words in the test dataset that\n",
        "haven’t been seen during training can cause probabilities in the Naive\n",
        "Bayes classifier to be $0$, thus making that particular test instance\n",
        "undecidable. The standard way to mitigate this effect (as well as to\n",
        "give more clout to rare words) is to use smoothing, in which the\n",
        "probability fraction\n",
        "$$\\frac{\\text{count}(w_i, c)}{\\sum\\limits_{w\\in V} \\text{count}(w, c)}$$ for a word\n",
        "$w_i$ becomes\n",
        "$$\\frac{\\text{count}(w_i, c) + \\text{smoothing}(w_i)}{\\sum\\limits_{w\\in V} \\text{count}(w, c) + \\sum\\limits_{w \\in V} \\text{smoothing}(w)}$$\n",
        "\n",
        "\n",
        "\n"
      ]
    },
    {
      "metadata": {
        "id": "PBNIcbwUWphC",
        "colab_type": "text"
      },
      "cell_type": "markdown",
      "source": [
        "#### (Q3.2) Implement Laplace feature smoothing (1pt)\n",
        "($smoothing(\\cdot) = \\kappa$, constant for all words) in your Naive\n",
        "Bayes classifier’s code, and report the impact on performance. \n",
        "Use $\\kappa = 1$."
      ]
    },
    {
      "metadata": {
        "id": "g03yflCc9kpW",
        "colab_type": "code",
        "outputId": "b0902597-7870-4f9c-b562-a485bc03161b",
        "colab": {
          "base_uri": "https://localhost:8080/",
          "height": 124
        }
      },
      "cell_type": "code",
      "source": [
        "# YOUR CODE HERE Same, as before, but with smoothing function\n",
        "\n",
        "from math import log\n",
        "from random import randint\n",
        "from nltk.stem.porter import *\n",
        "stemmer = PorterStemmer()\n",
        "\n",
        "class NB_classifier():\n",
        "  \n",
        "  def __init__(self,classes,smoothing_value=0,tostem=False):\n",
        "    self.smoothing_value = smoothing_value\n",
        "    self.tostem = tostem\n",
        "    self.classes = classes\n",
        "\n",
        "  def fit(self,documents):\n",
        "    self.amount_docs = len(documents)\n",
        "    self.amount_doc_per_class = [0] * len(classes) #Amount POS (class) documents is index 0 and NEG is index 1\n",
        "    self.prior_of_classes = [0.0] * len(classes) \n",
        "    self.total_vocabulary = set()\n",
        "    self.class_word_counters = [Counter(),Counter()]\n",
        "    self.total_amount_words_class = [0] * len(classes)\n",
        "\n",
        "    for review in documents:\n",
        "      sentiment = review[\"sentiment\"]\n",
        "      content = review[\"content\"]\n",
        "      \n",
        "      if sentiment == classes[0]: #Positive class\n",
        "        self.amount_doc_per_class[0] +=1\n",
        "        class_index = 0\n",
        "      else: #Negative class\n",
        "        self.amount_doc_per_class[1] +=1\n",
        "        class_index = 1\n",
        "\n",
        "      for sentence in content:\n",
        "        for token,pos_tag in sentence:\n",
        "          token = token.lower()\n",
        "          if self.tostem:\n",
        "             token = stemmer.stem(token)\n",
        "          if token not in self.total_vocabulary:\n",
        "            self.total_vocabulary.add(token) \n",
        "           \n",
        "          counter_dict = self.class_word_counters[class_index]\n",
        "          counter_dict[token]  += 1\n",
        "          self.total_amount_words_class[class_index] += 1\n",
        "    \n",
        "    self.prior_of_classes[0] = self.amount_doc_per_class[0] / self.amount_docs\n",
        "    self.prior_of_classes[1] = self.amount_doc_per_class[1] / self.amount_docs\n",
        "    #print(\" Total amount pos in dict {}\".format(self.total_amount_words_class[0]))\n",
        "    #print(\" Total amount neg in dict {}\".format(self.total_amount_words_class[1]))\n",
        "   \n",
        "    \n",
        "  def predict(self,test_documents):\n",
        "      pos_prior = log(self.prior_of_classes[0]) if self.prior_of_classes[0] > 0 else 0\n",
        "      neg_prior = log(self.prior_of_classes[1]) if self.prior_of_classes[1] > 0 else 0\n",
        "      predictions = []\n",
        "      pos_dict = self.class_word_counters[0]\n",
        "      neg_dict = self.class_word_counters[1]\n",
        "      \n",
        "      for review in test_documents:\n",
        "        content = review[\"content\"]\n",
        "        probability_POS = pos_prior\n",
        "        probability_NEG = neg_prior\n",
        "        total_conditional_pos = 0\n",
        "        total_conditional_neg = 0 \n",
        "        \n",
        "        for sentence in content:\n",
        "          for token,pos_tag in sentence:\n",
        "            token = token.lower()\n",
        "            if self.tostem:\n",
        "                token = stemmer.stem(token)\n",
        "            if token in self.total_vocabulary:\n",
        "              occ_in_pos = pos_dict[token] if token in self.class_word_counters[0] else 0\n",
        "              occ_in_neg = neg_dict[token] if token in self.class_word_counters[1] else 0\n",
        "\n",
        "              #Added change for smoothing, occ_in_pos and occ_in_neg = 0 initial and add smoothing by conditional\n",
        "              if self.smoothing_value > 0:\n",
        "                  conditional_pos = (occ_in_pos + self.smoothing_value) / (self.total_amount_words_class[0] + len(self.total_vocabulary) * self.smoothing_value)\n",
        "                  conditional_neg = (occ_in_neg + self.smoothing_value) / (self.total_amount_words_class[1] + len(self.total_vocabulary) * self.smoothing_value)\n",
        "              else: \n",
        "                  conditional_pos = occ_in_pos / self.total_amount_words_class[0]\n",
        "                  conditional_neg = occ_in_neg / self.total_amount_words_class[1]\n",
        "              total_conditional_pos += log(conditional_pos)\n",
        "              total_conditional_neg += log(conditional_neg)\n",
        "                \n",
        "        probability_POS += total_conditional_pos\n",
        "        probability_NEG += total_conditional_neg\n",
        "        probs = [probability_POS,probability_NEG]\n",
        "        max_prob = max(probs)\n",
        "        count = probs.count(max_prob)\n",
        "        if count == 1:\n",
        "          max_index = probs.index(max_prob)\n",
        "        else: max_index = randint(0, 1)\n",
        "        predictions.append(self.classes[max_index])\n",
        "        \n",
        "      return predictions\n",
        "    \n",
        "def get_correctness_results(predictions,targets):\n",
        "    correctness_predictions = []\n",
        "      \n",
        "    for i,prediction in enumerate(predictions):\n",
        "      target = targets[i]\n",
        "      if (prediction == target):\n",
        "         correctness_predictions.append(\"+\")\n",
        "      else:\n",
        "         correctness_predictions.append(\"-\")\n",
        "        \n",
        "    return correctness_predictions\n",
        "    \n",
        "\n",
        "classes = [\"POS\",\"NEG\"]\n",
        "neg_reviews =  reviews[0:1000]\n",
        "pos_reviews = reviews[1000:]\n",
        "train_set = neg_reviews[:900] + pos_reviews[:900]\n",
        "test_set = neg_reviews[900:] + pos_reviews[900:]\n",
        "print(len(train_set))\n",
        "print(len(test_set))\n",
        "\n",
        "nb = NB_classifier(classes,1)\n",
        "nb.fit(train_set)\n",
        "smoothing_predictions = nb.predict(test_set)\n",
        "targets = []\n",
        "for review in test_set:\n",
        "    targets.append(review[\"sentiment\"])\n",
        "\n",
        "acc = calc_accuracy(smoothing_predictions,targets)\n",
        "smoothing_results = get_correctness_results(smoothing_predictions,targets)\n",
        "print(predictions)\n",
        "print(targets)\n",
        "print(\"Accuracy of smoothing: {}%\".format(acc))\n"
      ],
      "execution_count": 66,
      "outputs": [
        {
          "output_type": "stream",
          "text": [
            "1800\n",
            "200\n",
            "['POS', 'NEG', 'NEG', 'POS', 'POS', 'NEG', 'NEG', 'NEG', 'NEG', 'POS', 'POS', 'POS', 'NEG', 'POS', 'POS', 'NEG', 'NEG', 'POS', 'POS', 'NEG', 'POS', 'NEG', 'POS', 'POS', 'POS', 'POS', 'NEG', 'NEG', 'NEG', 'NEG', 'NEG', 'NEG', 'POS', 'NEG', 'NEG', 'NEG', 'NEG', 'NEG', 'NEG', 'POS', 'NEG', 'POS', 'NEG', 'POS', 'NEG', 'POS', 'POS', 'NEG', 'POS', 'NEG', 'NEG', 'POS', 'POS', 'POS', 'NEG', 'NEG', 'NEG', 'NEG', 'POS', 'POS', 'NEG', 'POS', 'POS', 'NEG', 'NEG', 'NEG', 'POS', 'NEG', 'POS', 'NEG', 'NEG', 'POS', 'NEG', 'NEG', 'NEG', 'NEG', 'POS', 'NEG', 'NEG', 'NEG', 'POS', 'NEG', 'POS', 'NEG', 'POS', 'NEG', 'NEG', 'POS', 'NEG', 'NEG', 'NEG', 'POS', 'NEG', 'POS', 'NEG', 'NEG', 'POS', 'NEG', 'NEG', 'POS', 'POS', 'POS', 'NEG', 'NEG', 'NEG', 'NEG', 'NEG', 'NEG', 'NEG', 'POS', 'NEG', 'NEG', 'NEG', 'POS', 'NEG', 'NEG', 'NEG', 'NEG', 'POS', 'NEG', 'NEG', 'POS', 'POS', 'NEG', 'NEG', 'NEG', 'POS', 'NEG', 'POS', 'NEG', 'POS', 'NEG', 'NEG', 'POS', 'NEG', 'NEG', 'NEG', 'NEG', 'NEG', 'POS', 'NEG', 'NEG', 'NEG', 'NEG', 'NEG', 'POS', 'NEG', 'NEG', 'POS', 'NEG', 'NEG', 'POS', 'POS', 'POS', 'POS', 'NEG', 'NEG', 'POS', 'NEG', 'POS', 'NEG', 'NEG', 'POS', 'NEG', 'POS', 'POS', 'NEG', 'POS', 'POS', 'NEG', 'NEG', 'POS', 'POS', 'POS', 'NEG', 'NEG', 'NEG', 'POS', 'POS', 'NEG', 'POS', 'NEG', 'POS', 'POS', 'NEG', 'NEG', 'NEG', 'NEG', 'NEG', 'POS', 'NEG', 'POS', 'POS', 'NEG', 'POS', 'NEG', 'POS', 'POS', 'POS', 'NEG']\n",
            "['NEG', 'NEG', 'NEG', 'NEG', 'NEG', 'NEG', 'NEG', 'NEG', 'NEG', 'NEG', 'NEG', 'NEG', 'NEG', 'NEG', 'NEG', 'NEG', 'NEG', 'NEG', 'NEG', 'NEG', 'NEG', 'NEG', 'NEG', 'NEG', 'NEG', 'NEG', 'NEG', 'NEG', 'NEG', 'NEG', 'NEG', 'NEG', 'NEG', 'NEG', 'NEG', 'NEG', 'NEG', 'NEG', 'NEG', 'NEG', 'NEG', 'NEG', 'NEG', 'NEG', 'NEG', 'NEG', 'NEG', 'NEG', 'NEG', 'NEG', 'NEG', 'NEG', 'NEG', 'NEG', 'NEG', 'NEG', 'NEG', 'NEG', 'NEG', 'NEG', 'NEG', 'NEG', 'NEG', 'NEG', 'NEG', 'NEG', 'NEG', 'NEG', 'NEG', 'NEG', 'NEG', 'NEG', 'NEG', 'NEG', 'NEG', 'NEG', 'NEG', 'NEG', 'NEG', 'NEG', 'NEG', 'NEG', 'NEG', 'NEG', 'NEG', 'NEG', 'NEG', 'NEG', 'NEG', 'NEG', 'NEG', 'NEG', 'NEG', 'NEG', 'NEG', 'NEG', 'NEG', 'NEG', 'NEG', 'NEG', 'POS', 'POS', 'POS', 'POS', 'POS', 'POS', 'POS', 'POS', 'POS', 'POS', 'POS', 'POS', 'POS', 'POS', 'POS', 'POS', 'POS', 'POS', 'POS', 'POS', 'POS', 'POS', 'POS', 'POS', 'POS', 'POS', 'POS', 'POS', 'POS', 'POS', 'POS', 'POS', 'POS', 'POS', 'POS', 'POS', 'POS', 'POS', 'POS', 'POS', 'POS', 'POS', 'POS', 'POS', 'POS', 'POS', 'POS', 'POS', 'POS', 'POS', 'POS', 'POS', 'POS', 'POS', 'POS', 'POS', 'POS', 'POS', 'POS', 'POS', 'POS', 'POS', 'POS', 'POS', 'POS', 'POS', 'POS', 'POS', 'POS', 'POS', 'POS', 'POS', 'POS', 'POS', 'POS', 'POS', 'POS', 'POS', 'POS', 'POS', 'POS', 'POS', 'POS', 'POS', 'POS', 'POS', 'POS', 'POS', 'POS', 'POS', 'POS', 'POS', 'POS', 'POS', 'POS', 'POS', 'POS', 'POS', 'POS', 'POS']\n",
            "Accuracy of smoothing: 82.5%\n"
          ],
          "name": "stdout"
        }
      ]
    },
    {
      "metadata": {
        "id": "-conSBddWWyN",
        "colab_type": "text"
      },
      "cell_type": "markdown",
      "source": [
        "#### (Q3.3) Is the difference between non smoothed (Q3.1) and smoothed (Q3.2) statistically significant? (0.5pt)"
      ]
    },
    {
      "metadata": {
        "id": "CCvSNGlHMUPz",
        "colab_type": "code",
        "outputId": "845750ab-33e1-4fa7-a069-2100cf21f147",
        "colab": {
          "base_uri": "https://localhost:8080/",
          "height": 52
        }
      },
      "cell_type": "code",
      "source": [
        "\n",
        "#Different is statiscally significant\n",
        "p_value = sign_test(no_smoothing_results, smoothing_results)\n",
        "print(\"p_value =\", p_value)"
      ],
      "execution_count": 53,
      "outputs": [
        {
          "output_type": "stream",
          "text": [
            "the difference is significant\n",
            "p_value = 0.000003547178174130642586494974890\n"
          ],
          "name": "stdout"
        }
      ]
    },
    {
      "metadata": {
        "id": "ZiGcgwba87D5",
        "colab_type": "text"
      },
      "cell_type": "markdown",
      "source": [
        "## Cross-validation\n",
        "\n",
        "A serious danger in using Machine Learning on small datasets, with many\n",
        "iterations of slightly different versions of the algorithms, is that we\n",
        "end up with Type III errors, also called the “testing hypotheses\n",
        "suggested by the data” errors. This type of error occurs when we make\n",
        "repeated improvements to our classifiers by playing with features and\n",
        "their processing, but we don’t get a fresh, never-before seen test\n",
        "dataset every time. Thus, we risk developing a classifier that’s better\n",
        "and better on our data, but worse and worse at generalizing to new,\n",
        "never-before seen data.\n",
        "\n",
        "A simple method to guard against Type III errors is to use\n",
        "cross-validation. In N-fold cross-validation, we divide the data into N\n",
        "distinct chunks / folds. Then, we repeat the experiment N times, each\n",
        "time holding out one of the chunks for testing, training our classifier\n",
        "on the remaining N - 1 data chunks, and reporting performance on the\n",
        "held-out chunk. We can use different strategies for dividing the data:\n",
        "\n",
        "-   Consecutive splitting:\n",
        "  - cv000–cv099 = Split 1\n",
        "  - cv100–cv199 = Split 2\n",
        "  - etc.\n",
        "  \n",
        "-   Round-robin splitting (mod 10):\n",
        "  - cv000, cv010, cv020, … = Split 1\n",
        "  - cv001, cv011, cv021, … = Split 2\n",
        "  - etc.\n",
        "\n",
        "-   Random sampling/splitting\n",
        "  - Not used here (but you may choose to split this way in a non-educational situation)\n",
        "\n",
        "#### (Q3.4) Write the code to implement 10-fold cross-validation using round-robin splitting for your Naive Bayes classifier from Q3.2 and compute the 10 accuracies. Report the final performance, which is the average of the performances per fold. If all splits perform equally well, this is a good sign. (1pt)\n",
        "\n",
        "\n",
        "\n",
        "\n"
      ]
    },
    {
      "metadata": {
        "id": "3KeCGPa7Nuzx",
        "colab_type": "code",
        "outputId": "79c5d6b4-99ce-4345-9379-f3e04e4bf8e3",
        "colab": {
          "base_uri": "https://localhost:8080/",
          "height": 208
        }
      },
      "cell_type": "code",
      "source": [
        "# YOUR CODE HERE\n",
        "#Takes a while\n",
        "\n",
        "#Create folds according to the round-robin (mod 10) as that is the amount of folds\n",
        "def create_folds(data,amount_folds):\n",
        "  all_folds = [[] for i in range(amount_folds)]\n",
        "  review_index = 0\n",
        "  while review_index < len(data):\n",
        "    for i,fold in enumerate(all_folds):\n",
        "        review = data[review_index + i]\n",
        "        fold.append(review)\n",
        "    review_index += amount_folds\n",
        "   \n",
        "  return all_folds\n",
        "\n",
        "def cross_validation(classifier,data,amount_folds,preprocessing=False,include_pos_tag=False,vocabulary=None,preference_pos=False):\n",
        "    all_folds = create_folds(reviews,10)\n",
        "    folds_performance = []\n",
        "    correctness_results = []\n",
        "    \n",
        "    for i,test_fold in enumerate(all_folds):\n",
        "      training_set = []\n",
        "      for j in range(10):\n",
        "        if i != j:\n",
        "          training_fold = all_folds[j]\n",
        "          training_set += training_fold\n",
        "         \n",
        "      if preprocessing: #Preprocessing training and test data for SVM\n",
        "        features,train_targets,voc = get_FeaturesAndTargets(training_set,include_pos_tag,vocabulary,preference_pos)\n",
        "        x_train = features\n",
        "        y_train = train_targets\n",
        "        classifier.fit(x_train,y_train)\n",
        "\n",
        "        x_test,y_test,voc = get_FeaturesAndTargets(test_fold,include_pos_tag,voc,preference_pos)\n",
        "        targets = y_test\n",
        "        predictions = classifier.predict(x_test)\n",
        "        \n",
        "      else:\n",
        "        targets = []\n",
        "        for review in test_fold:\n",
        "           targets.append(review[\"sentiment\"])\n",
        "\n",
        "        classifier.fit(training_set) #Classifier training resets\n",
        "        predictions = classifier.predict(test_fold)\n",
        "        \n",
        "      acc = calc_accuracy(predictions,targets)\n",
        "      print(\"Accuracy of fold {}: {}\".format(i+1,acc))\n",
        "      folds_performance.append(acc)\n",
        "      results = get_correctness_results(predictions,targets)\n",
        "      correctness_results += results\n",
        "    \n",
        "    sum_acc = sum(folds_performance)\n",
        "    mean_acc = sum_acc/amount_folds\n",
        "    print(\"Final performance average: {}\".format(mean_acc))\n",
        "    \n",
        "    return (folds_performance,mean_acc,correctness_results)\n",
        "  \n",
        "nb = NB_classifier(classes,1)\n",
        "folds_performance, mean_acc,smoothing_cv_results = cross_validation(nb,reviews,10)\n",
        "\n",
        "\n"
      ],
      "execution_count": 123,
      "outputs": [
        {
          "output_type": "stream",
          "text": [
            "Accuracy of fold 1: 79.0\n",
            "Accuracy of fold 2: 83.5\n",
            "Accuracy of fold 3: 80.5\n",
            "Accuracy of fold 4: 82.5\n",
            "Accuracy of fold 5: 78.0\n",
            "Accuracy of fold 6: 84.5\n",
            "Accuracy of fold 7: 83.0\n",
            "Accuracy of fold 8: 77.5\n",
            "Accuracy of fold 9: 83.0\n",
            "Accuracy of fold 10: 84.0\n",
            "Final performance average: 81.55\n"
          ],
          "name": "stdout"
        }
      ]
    },
    {
      "metadata": {
        "id": "otdlsDXBNyOa",
        "colab_type": "text"
      },
      "cell_type": "markdown",
      "source": [
        "#### (Q3.5) Write code to calculate and report variance, in addition to the final performance. (1pt)\n",
        "\n",
        "**Please report all future results using 10-fold cross-validation now\n",
        "(unless told to use the held-out test set).**"
      ]
    },
    {
      "metadata": {
        "id": "ZoBQm1KuNzNR",
        "colab_type": "code",
        "outputId": "9d162edf-84b9-4bbb-8476-d6d4eacb3806",
        "colab": {
          "base_uri": "https://localhost:8080/",
          "height": 52
        }
      },
      "cell_type": "code",
      "source": [
        "# YOUR CODE HERE\n",
        "print(folds_performance)\n",
        "array = np.array(folds_performance)\n",
        "var = np.var(array)\n",
        "print(\"Variance: {}\".format(var))\n"
      ],
      "execution_count": 103,
      "outputs": [
        {
          "output_type": "stream",
          "text": [
            "[79.0, 83.5, 80.5, 82.5, 78.0, 84.5, 83.0, 77.5, 83.0, 84.0]\n",
            "Variance: 6.0225\n"
          ],
          "name": "stdout"
        }
      ]
    },
    {
      "metadata": {
        "id": "s6A2zX9_BRKm",
        "colab_type": "text"
      },
      "cell_type": "markdown",
      "source": [
        "## Features, overfitting, and the curse of dimensionality\n",
        "\n",
        "In the Bag-of-Words model, ideally we would like each distinct word in\n",
        "the text to be mapped to its own dimension in the output vector\n",
        "representation. However, real world text is messy, and we need to decide\n",
        "on what we consider to be a word. For example, is “`word`\" different\n",
        "from “`Word`\", from “`word`”, or from “`words`\"? Too strict a\n",
        "definition, and the number of features explodes, while our algorithm\n",
        "fails to learn anything generalisable. Too lax, and we risk destroying\n",
        "our learning signal. In the following section, you will learn about\n",
        "confronting the feature sparsity and the overfitting problems as they\n",
        "occur in NLP classification tasks."
      ]
    },
    {
      "metadata": {
        "id": "EKK8FNt8VtcZ",
        "colab_type": "text"
      },
      "cell_type": "markdown",
      "source": [
        "#### (Q3.6): A touch of linguistics (1pt)\n",
        "\n",
        "Taking a step further, you can use stemming to\n",
        "hash different inflections of a word to the same feature in the BoW\n",
        "vector space. How does the performance of your classifier change when\n",
        "you use stemming on your training and test datasets? Please use the [Porter stemming\n",
        "    algorithm](http://www.nltk.org/howto/stem.html) from NLTK.\n",
        " Also, you should do cross validation and concatenate the predictions from all folds to compute the significance."
      ]
    },
    {
      "metadata": {
        "id": "NxtCul1IrBi_",
        "colab_type": "code",
        "outputId": "dbe4d30e-f74d-4606-a7b7-3410c70f8a14",
        "colab": {
          "base_uri": "https://localhost:8080/",
          "height": 208
        }
      },
      "cell_type": "code",
      "source": [
        "# YOUR CODE HERE\n",
        "nb = NB_classifier(classes,1,True)\n",
        "stem_folds_performance, stem_mean_acc, stem_cv_results = cross_validation(nb,reviews,10)\n",
        "#The performance does not change too much in terms of accuracy,but execution time is increased due to the overhead of stemming. \n",
        "\n"
      ],
      "execution_count": 57,
      "outputs": [
        {
          "output_type": "stream",
          "text": [
            "Accuracy of fold 1: 78.0\n",
            "Accuracy of fold 2: 84.0\n",
            "Accuracy of fold 3: 80.5\n",
            "Accuracy of fold 4: 84.0\n",
            "Accuracy of fold 5: 77.5\n",
            "Accuracy of fold 6: 84.0\n",
            "Accuracy of fold 7: 82.0\n",
            "Accuracy of fold 8: 77.5\n",
            "Accuracy of fold 9: 83.0\n",
            "Accuracy of fold 10: 83.0\n",
            "Final performance average: 81.35\n"
          ],
          "name": "stdout"
        }
      ]
    },
    {
      "metadata": {
        "id": "6SrJ1BeLXTnk",
        "colab_type": "text"
      },
      "cell_type": "markdown",
      "source": [
        "#### (Q3.7): Is the difference between NB with smoothing and NB with smoothing+stemming significant? (0.5pt)\n"
      ]
    },
    {
      "metadata": {
        "id": "gYqKBOiIrInT",
        "colab_type": "code",
        "outputId": "5f61afd0-c8c3-4744-c19e-c8af6bf41215",
        "colab": {
          "base_uri": "https://localhost:8080/",
          "height": 52
        }
      },
      "cell_type": "code",
      "source": [
        "# No it is not significant\n",
        "p_value = sign_test(smoothing_cv_results, stem_cv_results)\n",
        "print(\"p_value =\", p_value)"
      ],
      "execution_count": 71,
      "outputs": [
        {
          "output_type": "stream",
          "text": [
            "the difference is not significant\n",
            "p_value = 0.9465186089423488346539016590\n"
          ],
          "name": "stdout"
        }
      ]
    },
    {
      "metadata": {
        "id": "JkDHVq_1XUVP",
        "colab_type": "text"
      },
      "cell_type": "markdown",
      "source": [
        "#### Q3.8: What happens to the number of features (i.e., the size of the vocabulary) when using stemming as opposed to (Q3.2)? (0.5pt)\n",
        "Give actual numbers. You can use the held-out training set to determine these."
      ]
    },
    {
      "metadata": {
        "id": "MA3vee5-rJyy",
        "colab_type": "code",
        "outputId": "fa68e3a5-2716-4395-8834-7a360cbf05a7",
        "colab": {
          "base_uri": "https://localhost:8080/",
          "height": 52
        }
      },
      "cell_type": "code",
      "source": [
        "classes = [\"POS\",\"NEG\"]\n",
        "neg_reviews =  reviews[0:1000]\n",
        "pos_reviews = reviews[1000:]\n",
        "train_set = neg_reviews[:900] + pos_reviews[:900]\n",
        "\n",
        "nb = NB_classifier(classes)\n",
        "nb.fit(train_set)\n",
        "print(\"Size of vocabulary without stemming: {}\".format( len(nb.total_vocabulary) ))\n",
        "\n",
        "nb = NB_classifier(classes,1,True)\n",
        "nb.fit(train_set)\n",
        "print(\"Size of vocabulary with stemming: {}\".format( len(nb.total_vocabulary) ))\n",
        "\n",
        "#The number of features decreases with stemming, which makes sense as many words can be simplified to the same canonical form. Therefore, 5 features can become 1 feature for example. "
      ],
      "execution_count": 60,
      "outputs": [
        {
          "output_type": "stream",
          "text": [
            "Size of vocabulary without stemming: 45348\n",
            "Size of vocabulary with stemming: 32404\n"
          ],
          "name": "stdout"
        }
      ]
    },
    {
      "metadata": {
        "id": "SoazfxbNV5Lq",
        "colab_type": "text"
      },
      "cell_type": "markdown",
      "source": [
        "#### Q3.9: Putting some word order back in (0.5+0.5pt=1pt)\n",
        "\n",
        "A simple way of retaining some of the word\n",
        "order information when using bag-of-words representations is to add **n-grams** features. \n",
        "Retrain your classifier from (Q3.4) using **unigrams+bigrams** and\n",
        "**unigrams+bigrams+trigrams** as features, and report accuracy and statistical significances (in comparison to the experiment at (Q3.4) for all 10 folds, and between the new systems).\n",
        "\n",
        "\n",
        "\n"
      ]
    },
    {
      "metadata": {
        "id": "eYuKMTOpq9jz",
        "colab_type": "code",
        "outputId": "5d9523be-03d4-4381-e32f-78dcb14a1ec8",
        "colab": {
          "base_uri": "https://localhost:8080/",
          "height": 833
        }
      },
      "cell_type": "code",
      "source": [
        "# \n",
        "from math import log\n",
        "from random import randint\n",
        "from nltk.stem.porter import *\n",
        "stemmer = PorterStemmer()\n",
        "\n",
        "class NB_classifier():\n",
        "  \n",
        "  def __init__(self,classes,smoothing_value=0,tostem=False,uni_bi_or_trigram=1):\n",
        "    self.smoothing_value = smoothing_value\n",
        "    self.tostem = tostem\n",
        "    self.classes = classes\n",
        "    self.uni_bi_or_trigram = uni_bi_or_trigram\n",
        "\n",
        "  def fit(self,documents):\n",
        "    self.amount_docs = len(documents)\n",
        "    self.amount_doc_per_class = [0] * len(classes) #Amount POS (class) documents is index 0 and NEG is index 1\n",
        "    self.prior_of_classes = [0.0] * len(classes) \n",
        "    self.class_word_counters_unigram = [Counter(),Counter()]\n",
        "    self.class_word_counters_bigram = [{},{}]\n",
        "    self.class_word_counters_trigram = [{},{}]\n",
        "    self.total_amount_words_class = [0] * len(classes)\n",
        "    self.unigram_voc = set()\n",
        "    self.bigram_voc = set()\n",
        "    self.trigram_voc = set()\n",
        "    \n",
        "\n",
        "    for review in documents:\n",
        "      sentiment = review[\"sentiment\"]\n",
        "      content = review[\"content\"]\n",
        "      full_text = []\n",
        "      \n",
        "      if sentiment == classes[0]: #Positive class\n",
        "        self.amount_doc_per_class[0] +=1\n",
        "        class_index = 0\n",
        "      else: #Negative class\n",
        "        self.amount_doc_per_class[1] +=1\n",
        "        class_index = 1\n",
        "\n",
        "      for sentence in content:\n",
        "        for token,pos_tag in sentence:\n",
        "          token = token.lower()\n",
        "          if self.tostem:\n",
        "             token = stemmer.stem(token)\n",
        "          if token not in self.unigram_voc:\n",
        "            self.unigram_voc.add(token) \n",
        "          full_text.append(token)\n",
        "           \n",
        "          counter_dict_unigram = self.class_word_counters_unigram[class_index]\n",
        "          counter_dict_unigram[token]  += 1\n",
        "          self.total_amount_words_class[class_index] += 1\n",
        "          \n",
        "      #Bigram part\n",
        "      if self.uni_bi_or_trigram > 1:\n",
        "          bigrams = list(ngrams(full_text,2))\n",
        "          prior_word_dict = self.class_word_counters_bigram[class_index]\n",
        "          for bigram in bigrams:\n",
        "              if bigram not in self.bigram_voc:\n",
        "                  self.bigram_voc.add(bigram)\n",
        "            \n",
        "              first_word = bigram[0]\n",
        "              if first_word not in prior_word_dict:\n",
        "                bigram_with_prior_dict = {bigram: 1} #Creates a dictionary for a specific bigram combination with that prior word \n",
        "                prior_word_dict[first_word] = [1,bigram_with_prior_dict] #The first index stand for how many counts with prior word, second element is a dictioanry of bigrams with that prior\n",
        "              else: \n",
        "                prior_word_dict[first_word][0] += 1 #Increment count of all bigram with that prior\n",
        "                bigram_with_prior_dict = prior_word_dict[first_word][1] #Count of a specific bigram with that prior, to be incremented below\n",
        "                if bigram not in bigram_with_prior_dict:\n",
        "                  bigram_with_prior_dict[bigram] = 1\n",
        "                else: \n",
        "                  bigram_with_prior_dict[bigram] += 1\n",
        "      #Trigram part\n",
        "      if self.uni_bi_or_trigram == 3:\n",
        "          trigrams = list(ngrams(full_text,3))\n",
        "          prior_word_dict = self.class_word_counters_trigram[class_index]\n",
        "          for trigram in trigrams:\n",
        "              if trigram not in self.trigram_voc:\n",
        "                  self.trigram_voc.add(trigram)\n",
        "            \n",
        "              first_word = trigram[0]\n",
        "              second_word = trigram[1]\n",
        "              prior_word = first_word + second_word\n",
        "              if prior_word not in prior_word_dict:\n",
        "                trigram_with_prior_dict = {trigram: 1} #Creates a dictionary for a specific bigram combination with that prior word \n",
        "                prior_word_dict[prior_word] = [1,trigram_with_prior_dict] #The first index stand for how many counts with prior word, second element is a dictioanry of bigrams with that prior\n",
        "              else: \n",
        "                prior_word_dict[prior_word][0] += 1 #Increment count of all bigram with that prior\n",
        "                trigram_with_prior_dict = prior_word_dict[prior_word][1] #Count of a specific bigram with that prior, to be incremented below\n",
        "                if trigram not in trigram_with_prior_dict:\n",
        "                  trigram_with_prior_dict[trigram] = 1\n",
        "                else: \n",
        "                  trigram_with_prior_dict[trigram] += 1\n",
        "         \n",
        "        \n",
        "    self.prior_of_classes[0] = self.amount_doc_per_class[0] / self.amount_docs\n",
        "    self.prior_of_classes[1] = self.amount_doc_per_class[1] / self.amount_docs\n",
        "    self.total_vocabulary = self.unigram_voc|self.bigram_voc|self.trigram_voc #For unigram, bigram and trigram\n",
        "  \n",
        "  def predict(self,test_documents):\n",
        "      pos_prior = log(self.prior_of_classes[0]) if self.prior_of_classes[0] > 0 else 0\n",
        "      neg_prior = log(self.prior_of_classes[1]) if self.prior_of_classes[1] > 0 else 0\n",
        "      predictions = []\n",
        "      uni_pos_dict = self.class_word_counters_unigram[0]\n",
        "      uni_neg_dict = self.class_word_counters_unigram[1]\n",
        "      bi_pos_dict = self.class_word_counters_bigram[0]\n",
        "      bi_neg_dict = self.class_word_counters_bigram[1]\n",
        "      tri_pos_dict = self.class_word_counters_trigram[0]\n",
        "      tri_neg_dict = self.class_word_counters_trigram[1]\n",
        "      len_unigram_voc = len(self.unigram_voc)\n",
        "      len_bigram_voc = len(self.bigram_voc)\n",
        "      len_trigram_voc = len(self.trigram_voc)\n",
        "      weight = 1 / self.uni_bi_or_trigram\n",
        "      \n",
        "      for review in test_documents:\n",
        "        content = review[\"content\"]\n",
        "        probability_POS = pos_prior\n",
        "        probability_NEG = neg_prior\n",
        "        uni_total_conditional_pos = 0\n",
        "        uni_total_conditional_neg = 0 \n",
        "        bi_total_conditional_pos = 0\n",
        "        bi_total_conditional_neg = 0 \n",
        "        tri_total_conditional_pos = 0\n",
        "        tri_total_conditional_neg = 0 \n",
        "        full_text = []\n",
        "        \n",
        "        for sentence in content:\n",
        "          for token,pos_tag in sentence:\n",
        "            token = token.lower()\n",
        "            if self.tostem:\n",
        "                token = stemmer.stem(token)\n",
        "            if token in self.unigram_voc:\n",
        "              full_text.append(token)\n",
        "              occ_in_pos = uni_pos_dict[token] if token in uni_pos_dict else 0\n",
        "              occ_in_neg = uni_neg_dict[token] if token in uni_neg_dict  else 0\n",
        "\n",
        "              total_pos_words = self.total_amount_words_class[0]\n",
        "              total_neg_words = self.total_amount_words_class[1]\n",
        "              \n",
        "              uni_conditional_pos, uni_conditional_neg  = self.compute_conditional(occ_in_pos,total_pos_words,occ_in_neg,total_neg_words,self.smoothing_value,len_unigram_voc)\n",
        "              uni_total_conditional_pos += log(uni_conditional_pos)\n",
        "              uni_total_conditional_neg += log(uni_conditional_neg)\n",
        "                \n",
        "        probability_POS += weight * uni_total_conditional_pos\n",
        "        probability_NEG += weight * uni_total_conditional_neg\n",
        "        \n",
        "        #bigram part\n",
        "        if self.uni_bi_or_trigram > 1:\n",
        "          bigrams = list(ngrams(full_text,2))\n",
        "          for bigram in bigrams:\n",
        "              if bigram in self.bigram_voc:\n",
        "                first_word = bigram[0]\n",
        "                pos_prior_word_mapping = bi_pos_dict.get(first_word)\n",
        "                neg_prior_word_mapping = bi_neg_dict .get(first_word)\n",
        "                pos_bigram_count = 0\n",
        "                neg_bigram_count = 0\n",
        "                pos_prior_word_sequence_count = 1 #Assign value before reference in compute conditional, 0 dividing by 1 is still 0. \n",
        "                neg_prior_word_sequence_count = 1\n",
        " \n",
        "                if pos_prior_word_mapping != None:\n",
        "                    bigram_count = pos_prior_word_mapping[1].get(bigram)\n",
        "                    pos_bigram_count = bigram_count if bigram_count != None else 0\n",
        "                    pos_prior_word_sequence_count = pos_prior_word_mapping[0]\n",
        "                                                              \n",
        "                if neg_prior_word_mapping != None:\n",
        "                    bigram_count = neg_prior_word_mapping[1].get(bigram)\n",
        "                    neg_bigram_count = bigram_count if bigram_count != None else 0\n",
        "                    neg_prior_word_sequence_count = neg_prior_word_mapping[0]\n",
        "                  \n",
        "                bi_conditional_pos, bi_conditional_neg = self.compute_conditional(pos_bigram_count,pos_prior_word_sequence_count,neg_bigram_count,neg_prior_word_sequence_count,self.smoothing_value,len_bigram_voc)\n",
        "                bi_total_conditional_pos += log(bi_conditional_pos)\n",
        "                bi_total_conditional_neg += log(bi_conditional_neg)\n",
        "                \n",
        "          probability_POS += weight * bi_total_conditional_pos\n",
        "          probability_NEG += weight * bi_total_conditional_neg\n",
        "          \n",
        "        #trigram part \n",
        "        if self.uni_bi_or_trigram == 3:\n",
        "          trigrams = list(ngrams(full_text,3))\n",
        "          \n",
        "          for trigram in trigrams:\n",
        "              if trigram in self.trigram_voc:\n",
        "                prior_word = trigram[0] + trigram[1]\n",
        "                pos_prior_word_mapping = tri_pos_dict.get(prior_word)\n",
        "                neg_prior_word_mapping = tri_neg_dict.get(prior_word)\n",
        "                pos_trigram_count = 0\n",
        "                neg_trigram_count = 0\n",
        "                tri_pos_prior_word_sequence_count = 1\n",
        "                tri_neg_prior_word_sequence_count = 1\n",
        "   \n",
        "                if pos_prior_word_mapping != None:\n",
        "                    trigram_count = pos_prior_word_mapping[1].get(trigram)\n",
        "                    pos_trigram_count = trigram_count if trigram_count != None else 0\n",
        "                    tri_pos_prior_word_sequence_count = pos_prior_word_mapping[0]\n",
        "                                                              \n",
        "                if neg_prior_word_mapping != None:\n",
        "                    trigram_count = neg_prior_word_mapping[1].get(trigram)\n",
        "                    neg_trigram_count = trigram_count if trigram_count != None else 0\n",
        "                    tri_neg_prior_word_sequence_count = neg_prior_word_mapping[0]\n",
        "                  \n",
        "                tri_conditional_pos, tri_conditional_neg = self.compute_conditional(pos_trigram_count,tri_pos_prior_word_sequence_count,neg_trigram_count,tri_neg_prior_word_sequence_count,self.smoothing_value,len_trigram_voc)\n",
        "                \n",
        "                tri_total_conditional_pos += log(tri_conditional_pos)\n",
        "                tri_total_conditional_neg += log(tri_conditional_neg)\n",
        "          probability_POS += weight * tri_total_conditional_pos\n",
        "          probability_NEG += weight * tri_total_conditional_neg\n",
        "              \n",
        "        probs = [probability_POS,probability_NEG]\n",
        "        max_prob = max(probs)\n",
        "        count = probs.count(max_prob)\n",
        "        if count == 1:\n",
        "          max_index = probs.index(max_prob)\n",
        "        else: max_index = randint(0, 1)\n",
        "        predictions.append(self.classes[max_index])\n",
        "        \n",
        "      return predictions\n",
        "  \n",
        "  def compute_conditional(self,num_value_pos,denom_value_pos,num_value_neg,denom_value_neg,smoothing_value,len_voc):\n",
        "      conditional_pos=  0\n",
        "      conditional_pos = 0\n",
        "      \n",
        "      if smoothing_value > 0:\n",
        "          conditional_pos = (num_value_pos + smoothing_value) / (denom_value_pos + len_voc * smoothing_value)\n",
        "          conditional_neg = (num_value_neg + smoothing_value) / (denom_value_neg + len_voc * smoothing_value)\n",
        "      else:\n",
        "          conditional_pos = num_value_pos / denom_value_pos\n",
        "          conditional_neg = num_value_neg / denom_value_neg\n",
        "      \n",
        "      return (conditional_pos,conditional_neg)\n",
        "    \n",
        "  \n",
        "\n",
        "#All with smoothing and no stemming\n",
        "#3.4  \n",
        "\n",
        "print(\"Unigram only\")\n",
        "nb = NB_classifier(classes,1)\n",
        "uni_folds_performance, uni_mean_acc,uni_smoothing_cv_results = cross_validation(nb,reviews,10)\n",
        "\n",
        "#3.9 new added unigram+bigrams and unigram+bigrams+trigrams\n",
        "print(\"\\nUnigram + Bigram\")\n",
        "nb = NB_classifier(classes,1,False,2)\n",
        "bi_folds_performance, bi_mean_acc,bi_smoothing_cv_results = cross_validation(nb,reviews,10)\n",
        "\n",
        "print(\"\\nUnigram + Bigram + Trigram\")\n",
        "nb = NB_classifier(classes,1,False,3)\n",
        "tri_folds_performance, tri_mean_acc,tri_smoothing_cv_results = cross_validation(nb,reviews,10)\n",
        "\n",
        "\n",
        "print(\"\\nSign test between unigram and unigram+bigram: p_value =\", p_value)\n",
        "p_value = sign_test(uni_smoothing_cv_results, bi_smoothing_cv_results)\n",
        "print(\"\\nSign test between unigram and unigram+bigram+trigram: p_value =\", p_value)\n",
        "p_value = sign_test(uni_smoothing_cv_results, tri_smoothing_cv_results)\n",
        "print(\"\\nSign test between unigram+bigram and unigram+bigram+trigram: p_value =\", p_value)\n",
        "p_value = sign_test(bi_smoothing_cv_results, tri_smoothing_cv_results)\n",
        "\n"
      ],
      "execution_count": 119,
      "outputs": [
        {
          "output_type": "stream",
          "text": [
            "Unigram only\n",
            "Accuracy of fold 1: 79.0\n",
            "Accuracy of fold 2: 83.5\n",
            "Accuracy of fold 3: 80.5\n",
            "Accuracy of fold 4: 82.5\n",
            "Accuracy of fold 5: 78.0\n",
            "Accuracy of fold 6: 84.5\n",
            "Accuracy of fold 7: 83.0\n",
            "Accuracy of fold 8: 77.5\n",
            "Accuracy of fold 9: 83.0\n",
            "Accuracy of fold 10: 84.0\n",
            "Final performance average: 81.55\n",
            "\n",
            "Unigram + Bigram\n",
            "Accuracy of fold 1: 76.5\n",
            "Accuracy of fold 2: 79.0\n",
            "Accuracy of fold 3: 81.0\n",
            "Accuracy of fold 4: 84.0\n",
            "Accuracy of fold 5: 81.5\n",
            "Accuracy of fold 6: 83.0\n",
            "Accuracy of fold 7: 84.0\n",
            "Accuracy of fold 8: 79.0\n",
            "Accuracy of fold 9: 83.0\n",
            "Accuracy of fold 10: 80.0\n",
            "Final performance average: 81.1\n",
            "\n",
            "Unigram + Bigram + Trigram\n",
            "Accuracy of fold 1: 77.0\n",
            "Accuracy of fold 2: 79.0\n",
            "Accuracy of fold 3: 83.0\n",
            "Accuracy of fold 4: 85.0\n",
            "Accuracy of fold 5: 80.5\n",
            "Accuracy of fold 6: 83.5\n",
            "Accuracy of fold 7: 83.5\n",
            "Accuracy of fold 8: 80.0\n",
            "Accuracy of fold 9: 82.5\n",
            "Accuracy of fold 10: 80.5\n",
            "Final performance average: 81.45\n",
            "\n",
            "Sign test between unigram and unigram+bigram: p_value = 0.7712977979137471160722421800\n",
            "the difference is not significant\n",
            "\n",
            "Sign test between unigram and unigram+bigram+trigram: p_value = 0.8405124276655436267484850072\n",
            "the difference is not significant\n",
            "\n",
            "Sign test between unigram+bigram and unigram+bigram+trigram: p_value = 0.9821609888541456792697619327\n",
            "the difference is not significant\n"
          ],
          "name": "stdout"
        }
      ]
    },
    {
      "metadata": {
        "id": "dVrGGArkrWoL",
        "colab_type": "text"
      },
      "cell_type": "markdown",
      "source": [
        "\n",
        "#### Q3.10: How many features does the BoW model have to take into account now? (0.5pt)\n",
        "How does this number compare (e.g., linear, square, cubed, exponential) to the number of features at (Q3.8)? \n",
        "\n",
        "Use the held-out training set once again for this.\n"
      ]
    },
    {
      "metadata": {
        "id": "_z8sAJeUrdtM",
        "colab_type": "code",
        "outputId": "f37766cc-f960-4cfa-f26c-b8b798935334",
        "colab": {
          "base_uri": "https://localhost:8080/",
          "height": 519
        }
      },
      "cell_type": "code",
      "source": [
        "# YOUR CODE HERE\n",
        "classes = [\"POS\",\"NEG\"]\n",
        "neg_reviews =  reviews[0:1000]\n",
        "pos_reviews = reviews[1000:]\n",
        "train_set = neg_reviews[:900] + pos_reviews[:900]\n",
        "\n",
        "nb = NB_classifier(classes,1,False,3)\n",
        "nb.fit(train_set)\n",
        "print(\"Size of unigram vocabulary without stemming: {}\".format( len(nb.unigram_voc) ))\n",
        "print(\"Size of bigram vocabulary without stemming: {}\".format( len(nb.bigram_voc) ))\n",
        "print(\"Size of trigram vocabulary without stemming: {}\".format( len(nb.trigram_voc) ))\n",
        "without_stemming = [len(nb.unigram_voc),len(nb.bigram_voc),len(nb.trigram_voc)]\n",
        "\n",
        "nb = NB_classifier(classes,1,True,3)\n",
        "nb.fit(train_set)\n",
        "print(\"\\nSize of unigram vocabulary with stemming: {}\".format( len(nb.unigram_voc) ))\n",
        "print(\"Size of bigram vocabulary with stemming: {}\".format( len(nb.bigram_voc) ))\n",
        "print(\"Size of trigram vocabulary with stemming: {}\".format( len(nb.trigram_voc) ))\n",
        "with_stemming = [len(nb.unigram_voc),len(nb.bigram_voc),len(nb.trigram_voc)]\n",
        "\n",
        "x = [0,1,2]\n",
        "plt.plot(x,without_stemming,'lime',label=\"Line between without stemming results\")\n",
        "plt.plot(x,without_stemming,'bo',label=\"Without stemming amounts\")\n",
        "plt.plot(x,with_stemming,'ro',label=\"With stemming amounts\")\n",
        "plt.xticks(np.arange(3), (\"Unigram\",\"Unigram+Bigram\",\"Unigram+Bigram+Trigram\"))\n",
        "plt.legend()\n",
        "plt.ylabel('Amount of features',fontsize=13)\n",
        "plt.xlabel('Type of ngrams',fontsize=13)\n",
        "title_for_plot = \"Graph of different total amount of features between different ngrams combinations\"\n",
        "plt.title(title_for_plot,fontsize=15,fontweight=\"bold\")\n",
        "\n",
        "#From the plot it can be observed, that the number of features increases linearly with the addition of bigrams and trigrams at each step for both with and without stemming. \n",
        "#Furtheremore, with stemming has less amount of features, which makes sense as described earlier in Q3.8"
      ],
      "execution_count": 120,
      "outputs": [
        {
          "output_type": "stream",
          "text": [
            "Size of unigram vocabulary without stemming: 45348\n",
            "Size of bigram vocabulary without stemming: 425684\n",
            "Size of trigram vocabulary without stemming: 945654\n",
            "\n",
            "Size of unigram vocabulary with stemming: 32404\n",
            "Size of bigram vocabulary with stemming: 380872\n",
            "Size of trigram vocabulary with stemming: 920788\n"
          ],
          "name": "stdout"
        },
        {
          "output_type": "execute_result",
          "data": {
            "text/plain": [
              "Text(0.5,1,'Graph of different total amount of features between different ngrams combinations')"
            ]
          },
          "metadata": {
            "tags": []
          },
          "execution_count": 120
        },
        {
          "output_type": "display_data",
          "data": {
            "image/png": "[encoded data removed]",
            "text/plain": [
              "<matplotlib.figure.Figure at 0x7f152755e748>"
            ]
          },
          "metadata": {
            "tags": []
          }
        }
      ]
    },
    {
      "metadata": {
        "id": "CHWKDL3YV6vh",
        "colab_type": "text"
      },
      "cell_type": "markdown",
      "source": [
        "# Support Vector Machines (4pts)\n"
      ]
    },
    {
      "metadata": {
        "id": "hJSYhcVaoJGt",
        "colab_type": "text"
      },
      "cell_type": "markdown",
      "source": [
        "Though simple to understand, implement, and debug, one\n",
        "major problem with the Naive Bayes classifier is that its performance\n",
        "deteriorates (becomes skewed) when it is being used with features which\n",
        "are not independent (i.e., are correlated). Another popular classifier\n",
        "that doesn’t scale as well to big data, and is not as simple to debug as\n",
        "Naive Bayes, but that doesn’t assume feature independence is the Support\n",
        "Vector Machine (SVM) classifier.\n",
        "\n",
        "You can find more details about SVMs in Chapter 7 of Bishop: Pattern Recognition and Machine Learning.\n",
        "Other sources for learning SVM:\n",
        "* http://web.mit.edu/zoya/www/SVM.pdf\n",
        "* http://www.cs.columbia.edu/~kathy/cs4701/documents/jason_svm_tutorial.pdf\n",
        "* https://pythonprogramming.net/support-vector-machine-intro-machine-learning-tutorial/\n",
        "\n",
        "\n",
        "\n",
        "\n",
        "\n",
        "\n",
        "\n",
        "Use the scikit-learn implementation of \n",
        "[SVM.](http://scikit-learn.org/stable/modules/svm.html) with the default parameters.\n",
        "\n"
      ]
    },
    {
      "metadata": {
        "id": "0LnzNtQBV8gr",
        "colab_type": "text"
      },
      "cell_type": "markdown",
      "source": [
        "#### (Q4.1): Train SVM and compare to Naive Bayes (2pt)\n",
        "\n",
        "Train an SVM classifier (sklearn.svm.LinearSVC) using your features. Compare the\n",
        "classification performance of the SVM classifier to that of the Naive\n",
        "Bayes classifier from (Q3.4) and report the numbers.\n",
        "Do cross validation and concatenate the predictions from all folds to compute the significance.  Are the results significantly better?\n",
        "\n"
      ]
    },
    {
      "metadata": {
        "id": "JBscui8Mvoz0",
        "colab_type": "code",
        "outputId": "6719d81e-9f94-4641-e545-3af1fce79af3",
        "colab": {
          "base_uri": "https://localhost:8080/",
          "height": 278
        }
      },
      "cell_type": "code",
      "source": [
        "# YOUR CODE HERE\n",
        "from sklearn.feature_extraction.text import CountVectorizer\n",
        "from sklearn.svm import LinearSVC\n",
        "\n",
        "def get_FeaturesAndTargets(data,include_pos_tag=False,given_vocabulary=None,preference_pos=False):\n",
        "  targets = [] \n",
        "  corpus = []\n",
        "  desired_pos_tags = [\"N\",\"V\",\"J\",\"RB\"]\n",
        "  \n",
        "  for document in data:\n",
        "      targets.append(document[\"sentiment\"])\n",
        "      content = document[\"content\"]\n",
        "      \n",
        "      concat_full_text = \"\"\n",
        "      for sentence in content:\n",
        "         for token,pos_tag in sentence:\n",
        "            if include_pos_tag:\n",
        "                if not preference_pos:\n",
        "                  concat_full_text += token + pos_tag + \" \"\n",
        "                else:\n",
        "                   for desired_tag in desired_pos_tags: #The desired tags are like super classes, the pos tags can be JJ for example and still be part of J.\n",
        "                      if desired_tag in pos_tag:\n",
        "                        concat_full_text += token + pos_tag + \" \"\n",
        "                        break\n",
        "            else: \n",
        "                concat_full_text += token + \" \" #No need to lower() the token it as in CountVectorizer it already uses that\n",
        "      corpus.append(concat_full_text)\n",
        "  \n",
        "  if given_vocabulary == None:\n",
        "      vectorizer = CountVectorizer()\n",
        "      features = vectorizer.fit_transform(corpus)\n",
        "      vocabulary = vectorizer.vocabulary_ \n",
        "  else: \n",
        "      vectorizer = CountVectorizer(vocabulary=given_vocabulary)\n",
        "      features = vectorizer.transform(corpus)\n",
        "      vocabulary = given_vocabulary\n",
        "  \n",
        "  return features,targets,vocabulary\n",
        "\n",
        "classes = [\"POS\",\"NEG\"]\n",
        "neg_reviews =  reviews[0:1000]\n",
        "pos_reviews = reviews[1000:]\n",
        "train_set = neg_reviews[:900] + pos_reviews[:900]\n",
        "test_set = neg_reviews[900:] + pos_reviews[900:]\n",
        "\n",
        "#Use the same vocabulary to make it fair between the comparison. \n",
        "nb = NB_classifier(classes)\n",
        "nb.fit(train_set)\n",
        "naive_bayes_vocabulary = nb.unigram_voc\n",
        "\n",
        "modelSVM = LinearSVC()\n",
        "SVM_folds_performance, SVM_mean_acc, SVM_cv_results = cross_validation(modelSVM,reviews,10,True,vocabulary = naive_bayes_vocabulary)\n",
        "\n",
        "\n",
        "print(\"\\nSign test between smoothed unigram from Q3.4 and SVM: p_value =\\n\", p_value)\n",
        "p_value = sign_test(uni_smoothing_cv_results, SVM_cv_results)\n",
        "\n",
        "#document_term_matrix,targets,voc = get_FeaturesAndTargets(train_set,naive_bayes_vocabulary)\n",
        "#x_train = document_term_matrix\n",
        "#y_train = targets\n",
        "#model = LinearSVC()\n",
        "#model.fit(x_train,y_train)\n",
        "\n",
        "#from sklearn.metrics import accuracy_score\n",
        "#x_test,y_test,voc = get_FeaturesAndTargets(test_set,voc)\n",
        "#y_pred = model.predict(x_test)\n",
        "#accuracy_score(y_test, y_pred)"
      ],
      "execution_count": 134,
      "outputs": [
        {
          "output_type": "stream",
          "text": [
            "Accuracy of fold 1: 81.5\n",
            "Accuracy of fold 2: 82.0\n",
            "Accuracy of fold 3: 80.0\n",
            "Accuracy of fold 4: 86.0\n",
            "Accuracy of fold 5: 84.0\n",
            "Accuracy of fold 6: 82.5\n",
            "Accuracy of fold 7: 85.0\n",
            "Accuracy of fold 8: 85.5\n",
            "Accuracy of fold 9: 85.0\n",
            "Accuracy of fold 10: 81.0\n",
            "Final performance average: 83.25\n",
            "\n",
            "Sign test between smoothed unigram from Q3.4 and SVM: p_value =\n",
            " 0.7712977979137471160722421800\n",
            "the difference is not significant\n"
          ],
          "name": "stdout"
        }
      ]
    },
    {
      "metadata": {
        "id": "ifXVWcK0V9qY",
        "colab_type": "text"
      },
      "cell_type": "markdown",
      "source": [
        "### More linguistics\n",
        "\n",
        "Now add in part-of-speech features. You will find the\n",
        "movie review dataset has already been POS-tagged for you. Try to\n",
        "replicate what Pang et al. were doing:\n",
        "\n"
      ]
    },
    {
      "metadata": {
        "id": "xA3I82o4oWGu",
        "colab_type": "text"
      },
      "cell_type": "markdown",
      "source": [
        "####(Q4.2) Replace your features with word+POS features, and report performance with the SVM. Does this help? Do cross validation and concatenate the predictions from all folds to compute the significance. Are the results significant? Why?  (1pt)\n"
      ]
    },
    {
      "metadata": {
        "id": "NOvjYe-t2Br6",
        "colab_type": "code",
        "colab": {
          "base_uri": "https://localhost:8080/",
          "height": 347
        },
        "outputId": "6d1a3735-f84c-4aa7-c235-bbea78aa7572"
      },
      "cell_type": "code",
      "source": [
        "# YOUR CODE HERE\n",
        "classes = [\"POS\",\"NEG\"]\n",
        "neg_reviews =  reviews[0:1000]\n",
        "pos_reviews = reviews[1000:]\n",
        "train_set = neg_reviews[:900] + pos_reviews[:900]\n",
        "test_set = neg_reviews[900:] + pos_reviews[900:]\n",
        "\n",
        "#Don't have to use same vocabulary, make new one\n",
        "modelSVM = LinearSVC()\n",
        "SVM_POS_folds_performance, SVM_POS_mean_acc, SVM_POS_cv_results = cross_validation(modelSVM,reviews,10,True,include_pos_tag=True)\n",
        "\n",
        "#document_term_matrix,targets,voc = get_FeaturesAndTargets(train_set,True)\n",
        "#x_train = document_term_matrix\n",
        "#y_train = targets\n",
        "#model = LinearSVC()\n",
        "#model.fit(x_train,y_train)\n",
        "\n",
        "#from sklearn.metrics import accuracy_score\n",
        "#x_test,y_test,voc = get_FeaturesAndTargets(test_set,True,voc)\n",
        "#y_pred = model.predict(x_test)\n",
        "#accuracy_score(y_test, y_pred)\n",
        "print(\"\\nSign test between smoothed unigram from Q3.4 and SVM with POS tag: p_value =\\n\", p_value)\n",
        "p_value = sign_test(uni_smoothing_cv_results, SVM_POS_cv_results)\n",
        "\n",
        "print(\"\\nSign test between SVM without POS tag and SVM with POS tag: p_value =\\n\", p_value)\n",
        "p_value = sign_test(SVM_smoothing_cv_results, SVM_POS_cv_results)\n",
        "\n",
        "#It does seem to help as the results seem higher, but the sign test proves that the difference is not significant. "
      ],
      "execution_count": 135,
      "outputs": [
        {
          "output_type": "stream",
          "text": [
            "Accuracy of fold 1: 81.5\n",
            "Accuracy of fold 2: 82.5\n",
            "Accuracy of fold 3: 83.5\n",
            "Accuracy of fold 4: 84.5\n",
            "Accuracy of fold 5: 83.5\n",
            "Accuracy of fold 6: 83.5\n",
            "Accuracy of fold 7: 85.5\n",
            "Accuracy of fold 8: 86.0\n",
            "Accuracy of fold 9: 85.5\n",
            "Accuracy of fold 10: 83.0\n",
            "Final performance average: 83.9\n",
            "\n",
            "Sign test between smoothed unigram from Q3.4 and SVM with POS tag: p_value =\n",
            " 0.4605822651825517471808702509\n",
            "the difference is not significant\n",
            "\n",
            "Sign test between SVM without POS tag and SVM with POS tag: p_value =\n",
            " 0.2932785698870256137209886960\n",
            "the difference is not significant\n"
          ],
          "name": "stdout"
        }
      ]
    },
    {
      "metadata": {
        "id": "Su-3w87eMW0w",
        "colab_type": "text"
      },
      "cell_type": "markdown",
      "source": [
        "#### (Q4.3) Discard all closed-class words from your data (keep only nouns (N*), verbs (V*), adjectives (J*) and adverbs (RB*)), and report performance. Does this help? Do cross validation and concatenate the predictions from all folds to compute the significance. Are the results significantly better than when we don't discard the closed-class words? Why? (1pt)"
      ]
    },
    {
      "metadata": {
        "id": "CCUPlPozCYUX",
        "colab_type": "code",
        "colab": {
          "base_uri": "https://localhost:8080/",
          "height": 416
        },
        "outputId": "52f13066-40af-4421-ea37-0c6f868c6be4"
      },
      "cell_type": "code",
      "source": [
        "classes = [\"POS\",\"NEG\"]\n",
        "neg_reviews =  reviews[0:1000]\n",
        "pos_reviews = reviews[1000:]\n",
        "train_set = neg_reviews[:900] + pos_reviews[:900]\n",
        "test_set = neg_reviews[900:] + pos_reviews[900:]\n",
        "\n",
        "modelSVM = LinearSVC()\n",
        "SVM_closed_POS_folds_performance, SVM_closed_POS_mean_acc, SVM_closed_POS_cv_results = cross_validation(modelSVM,reviews,10,True,include_pos_tag=True,preference_pos=True)\n",
        "\n",
        "print(\"\\nSign test between smoothed unigram from Q3.4 and SVM with closed POS tag: p_value =\\n\", p_value)\n",
        "p_value = sign_test(uni_smoothing_cv_results, SVM_closed_POS_cv_results)\n",
        "\n",
        "print(\"\\nSign test between SVM without POS tag and SVM with POS tag: p_value =\\n\", p_value)\n",
        "p_value = sign_test(SVM_smoothing_cv_results, SVM_closed_POS_cv_results)\n",
        "\n",
        "print(\"\\nSign test between SVM with all POS tag and SVM with closed POS tag: p_value =\\n\", p_value)\n",
        "p_value = sign_test(SVM_POS_cv_results, SVM_closed_POS_cv_results)\n",
        "\n",
        "#The average accuracy is increased with 10 folds. Probably because the most important information are captured with the closed-class words, while the other are less important and act like noise. "
      ],
      "execution_count": 137,
      "outputs": [
        {
          "output_type": "stream",
          "text": [
            "Accuracy of fold 1: 82.5\n",
            "Accuracy of fold 2: 84.5\n",
            "Accuracy of fold 3: 81.5\n",
            "Accuracy of fold 4: 87.0\n",
            "Accuracy of fold 5: 84.5\n",
            "Accuracy of fold 6: 83.0\n",
            "Accuracy of fold 7: 87.0\n",
            "Accuracy of fold 8: 82.5\n",
            "Accuracy of fold 9: 86.5\n",
            "Accuracy of fold 10: 81.5\n",
            "Final performance average: 84.05\n",
            "\n",
            "Sign test between smoothed unigram from Q3.4 and SVM with closed POS tag: p_value =\n",
            " 0.7712977979137471160722421800\n",
            "the difference is not significant\n",
            "\n",
            "Sign test between SVM without POS tag and SVM with POS tag: p_value =\n",
            " 0.2732177720293096189389068499\n",
            "the difference is not significant\n",
            "\n",
            "Sign test between SVM with all POS tag and SVM with closed POS tag: p_value =\n",
            " 0.7373250398720036864195787185\n",
            "the difference is not significant\n"
          ],
          "name": "stdout"
        }
      ]
    },
    {
      "metadata": {
        "id": "nfwqOciAl2No",
        "colab_type": "text"
      },
      "cell_type": "markdown",
      "source": [
        "# (Q5) Discussion (max. 500 words). (5pts)\n",
        "\n",
        "> Based on your experiments, what are the effective features and techniques in sentiment analysis? What information do different features encode?\n",
        "Why is this important? What are the limitations of these features and techniques?\n",
        " \n"
      ]
    },
    {
      "metadata": {
        "id": "ZYuse5WLmekZ",
        "colab_type": "text"
      },
      "cell_type": "markdown",
      "source": [
        "*Write your answer here in max. 500 words.*"
      ]
    },
    {
      "metadata": {
        "id": "iwaKwfWQhRk_",
        "colab_type": "text"
      },
      "cell_type": "markdown",
      "source": [
        "# Submission \n"
      ]
    },
    {
      "metadata": {
        "id": "aOUeaET5ijk-",
        "colab_type": "code",
        "colab": {}
      },
      "cell_type": "code",
      "source": [
        "# Write your names and student numbers here:\n",
        "# Student 1 #12345\n",
        "# Student 2 #12345"
      ],
      "execution_count": 0,
      "outputs": []
    },
    {
      "metadata": {
        "id": "3A9K-H6Tii3X",
        "colab_type": "text"
      },
      "cell_type": "markdown",
      "source": [
        "**That's it!**\n",
        "\n",
        "- Check if you answered all questions fully and correctly. \n",
        "- Download your completed notebook using `File -> Download .ipynb` \n",
        "- Also save your notebook as a Github Gist. Get it by choosing `File -> Save as Github Gist`.  Make sure that the gist has a secret link (not public).\n",
        "- Check if your answers are all included in the file you submit (e.g. check the Github Gist URL)\n",
        "- Submit your .ipynb file and link to the Github Gist via *Canvas*. One submission per group. "
      ]
    }
  ]
}